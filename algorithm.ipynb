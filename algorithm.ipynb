{
  "nbformat": 4,
  "nbformat_minor": 0,
  "metadata": {
    "colab": {
      "name": "algorithm.ipynb",
      "provenance": [],
      "collapsed_sections": [
        "MjZXC02GmXy3",
        "-qyt_YAIMiYe",
        "BECD822W6BxB",
        "oImLrP-Q72xk",
        "pSjP-NmW0mrT",
        "j4TaNOv5hltc",
        "oe8vGTZ12QXO",
        "WRU2N-Q9ESzk",
        "McgNSTJ6llxP",
        "ALhZ04rLhAQn"
      ],
      "toc_visible": true,
      "include_colab_link": true
    },
    "kernelspec": {
      "name": "python3",
      "display_name": "Python 3"
    },
    "language_info": {
      "name": "python"
    }
  },
  "cells": [
    {
      "cell_type": "markdown",
      "metadata": {
        "id": "view-in-github",
        "colab_type": "text"
      },
      "source": [
        "<a href=\"https://colab.research.google.com/github/JingRu-hi/gameRating/blob/main/algorithm.ipynb\" target=\"_parent\"><img src=\"https://colab.research.google.com/assets/colab-badge.svg\" alt=\"Open In Colab\"/></a>"
      ]
    },
    {
      "cell_type": "markdown",
      "source": [
        "# packages\n",
        "\n",
        "mar03 刪掉演算法5"
      ],
      "metadata": {
        "id": "MjZXC02GmXy3"
      }
    },
    {
      "cell_type": "code",
      "execution_count": null,
      "metadata": {
        "id": "ztvVYTlbnCVy"
      },
      "outputs": [],
      "source": [
        "import numpy as np\n",
        "import pandas as pd\n",
        "from collections import defaultdict, Counter\n",
        "from sklearn.preprocessing import LabelEncoder\n",
        "import copy\n",
        "import matplotlib.pyplot as plt\n",
        "import os\n",
        "from scipy.optimize import minimize\n"
      ]
    },
    {
      "cell_type": "code",
      "source": [
        "!git clone https://github.com/JingRu-hi/gameRating.git"
      ],
      "metadata": {
        "id": "qKMpHqTxuKQT",
        "colab": {
          "base_uri": "https://localhost:8080/"
        },
        "outputId": "ac5488f9-58de-4994-a758-5331cf1e33e0"
      },
      "execution_count": null,
      "outputs": [
        {
          "output_type": "stream",
          "name": "stdout",
          "text": [
            "Cloning into 'gameRating'...\n",
            "remote: Enumerating objects: 89, done.\u001b[K\n",
            "remote: Counting objects: 100% (86/86), done.\u001b[K\n",
            "remote: Compressing objects: 100% (84/84), done.\u001b[K\n",
            "remote: Total 89 (delta 40), reused 0 (delta 0), pack-reused 3\u001b[K\n",
            "Unpacking objects: 100% (89/89), done.\n"
          ]
        }
      ]
    },
    {
      "cell_type": "code",
      "source": [
        "!ls gameRating"
      ],
      "metadata": {
        "colab": {
          "base_uri": "https://localhost:8080/"
        },
        "id": "QL-DLDW8gEEL",
        "outputId": "f2a5db00-540b-4d1f-964b-aef6fd39203c"
      },
      "execution_count": null,
      "outputs": [
        {
          "output_type": "stream",
          "name": "stdout",
          "text": [
            "beach_volleyball.csv  double_2010to2019_id.csv\tREADME.md  records\n"
          ]
        }
      ]
    },
    {
      "cell_type": "markdown",
      "source": [
        "# parameter"
      ],
      "metadata": {
        "id": "-qyt_YAIMiYe"
      }
    },
    {
      "cell_type": "code",
      "source": [
        "kwarg = {'start_mean' : 1500,\n",
        "         'update_var':True,\n",
        "         'file_name':None, 'L_div':1}\n",
        "# 自己設定: start_sig, mode\n",
        "start_sig = 100\n",
        "single = False\n",
        "\n",
        "init_sig = [80, 100, 120, 150, 180, 200,\n",
        "            220, 250, 280, 300, 320, 350,\n",
        "            380, 400, 420, 450, 480, 500,\n",
        "            520, 550, 580, 600, 620, 650, 680, 700]"
      ],
      "metadata": {
        "id": "Gynfy2gA5tAR"
      },
      "execution_count": null,
      "outputs": []
    },
    {
      "cell_type": "code",
      "source": [
        "date = 'Mar02/'\n",
        "try:\n",
        "  os.mkdir(date)\n",
        "except:\n",
        "  pass"
      ],
      "metadata": {
        "id": "lm9G5350pGHJ"
      },
      "execution_count": null,
      "outputs": []
    },
    {
      "cell_type": "code",
      "source": [
        "# double\n",
        "# tennis\n",
        "base = 'gameRating/'\n",
        "path = 'double_2010to2019_id.csv'\n",
        "print(path)\n",
        "\n",
        "tennis = pd.read_csv(base+path,parse_dates= [0],header=0,\n",
        "                     names=['tourney_date','surface','winner1_name','winner2_name','loser1_name','loser2_name'],\n",
        "                     dtype={'winner1_name':'Int64','winner2_name':'Int64','loser1_name':'Int64','loser2_name':'Int64'})\n",
        "tennis.head()"
      ],
      "metadata": {
        "colab": {
          "base_uri": "https://localhost:8080/",
          "height": 285
        },
        "id": "_3m9eDRXZtl7",
        "outputId": "86beed16-c6d3-48f5-f443-9114343a2b4a"
      },
      "execution_count": null,
      "outputs": [
        {
          "output_type": "stream",
          "name": "stdout",
          "text": [
            "double_2010to2019_id.csv\n"
          ]
        },
        {
          "output_type": "execute_result",
          "data": {
            "text/plain": [
              "  tourney_date surface  winner1_name  winner2_name  loser1_name  loser2_name\n",
              "0   2010-01-03    Hard        104160        102233       104958       105023\n",
              "1   2010-01-03    Hard        104871        102967       102382       102963\n",
              "2   2010-01-03    Hard        103566        103544       103429       102512\n",
              "3   2010-01-03    Hard        104249        103946       104504       103459\n",
              "4   2010-01-03    Hard        104607        103285       105064       103080"
            ],
            "text/html": [
              "\n",
              "  <div id=\"df-d0b1bc70-9160-40f1-b485-c41101018984\">\n",
              "    <div class=\"colab-df-container\">\n",
              "      <div>\n",
              "<style scoped>\n",
              "    .dataframe tbody tr th:only-of-type {\n",
              "        vertical-align: middle;\n",
              "    }\n",
              "\n",
              "    .dataframe tbody tr th {\n",
              "        vertical-align: top;\n",
              "    }\n",
              "\n",
              "    .dataframe thead th {\n",
              "        text-align: right;\n",
              "    }\n",
              "</style>\n",
              "<table border=\"1\" class=\"dataframe\">\n",
              "  <thead>\n",
              "    <tr style=\"text-align: right;\">\n",
              "      <th></th>\n",
              "      <th>tourney_date</th>\n",
              "      <th>surface</th>\n",
              "      <th>winner1_name</th>\n",
              "      <th>winner2_name</th>\n",
              "      <th>loser1_name</th>\n",
              "      <th>loser2_name</th>\n",
              "    </tr>\n",
              "  </thead>\n",
              "  <tbody>\n",
              "    <tr>\n",
              "      <th>0</th>\n",
              "      <td>2010-01-03</td>\n",
              "      <td>Hard</td>\n",
              "      <td>104160</td>\n",
              "      <td>102233</td>\n",
              "      <td>104958</td>\n",
              "      <td>105023</td>\n",
              "    </tr>\n",
              "    <tr>\n",
              "      <th>1</th>\n",
              "      <td>2010-01-03</td>\n",
              "      <td>Hard</td>\n",
              "      <td>104871</td>\n",
              "      <td>102967</td>\n",
              "      <td>102382</td>\n",
              "      <td>102963</td>\n",
              "    </tr>\n",
              "    <tr>\n",
              "      <th>2</th>\n",
              "      <td>2010-01-03</td>\n",
              "      <td>Hard</td>\n",
              "      <td>103566</td>\n",
              "      <td>103544</td>\n",
              "      <td>103429</td>\n",
              "      <td>102512</td>\n",
              "    </tr>\n",
              "    <tr>\n",
              "      <th>3</th>\n",
              "      <td>2010-01-03</td>\n",
              "      <td>Hard</td>\n",
              "      <td>104249</td>\n",
              "      <td>103946</td>\n",
              "      <td>104504</td>\n",
              "      <td>103459</td>\n",
              "    </tr>\n",
              "    <tr>\n",
              "      <th>4</th>\n",
              "      <td>2010-01-03</td>\n",
              "      <td>Hard</td>\n",
              "      <td>104607</td>\n",
              "      <td>103285</td>\n",
              "      <td>105064</td>\n",
              "      <td>103080</td>\n",
              "    </tr>\n",
              "  </tbody>\n",
              "</table>\n",
              "</div>\n",
              "      <button class=\"colab-df-convert\" onclick=\"convertToInteractive('df-d0b1bc70-9160-40f1-b485-c41101018984')\"\n",
              "              title=\"Convert this dataframe to an interactive table.\"\n",
              "              style=\"display:none;\">\n",
              "        \n",
              "  <svg xmlns=\"http://www.w3.org/2000/svg\" height=\"24px\"viewBox=\"0 0 24 24\"\n",
              "       width=\"24px\">\n",
              "    <path d=\"M0 0h24v24H0V0z\" fill=\"none\"/>\n",
              "    <path d=\"M18.56 5.44l.94 2.06.94-2.06 2.06-.94-2.06-.94-.94-2.06-.94 2.06-2.06.94zm-11 1L8.5 8.5l.94-2.06 2.06-.94-2.06-.94L8.5 2.5l-.94 2.06-2.06.94zm10 10l.94 2.06.94-2.06 2.06-.94-2.06-.94-.94-2.06-.94 2.06-2.06.94z\"/><path d=\"M17.41 7.96l-1.37-1.37c-.4-.4-.92-.59-1.43-.59-.52 0-1.04.2-1.43.59L10.3 9.45l-7.72 7.72c-.78.78-.78 2.05 0 2.83L4 21.41c.39.39.9.59 1.41.59.51 0 1.02-.2 1.41-.59l7.78-7.78 2.81-2.81c.8-.78.8-2.07 0-2.86zM5.41 20L4 18.59l7.72-7.72 1.47 1.35L5.41 20z\"/>\n",
              "  </svg>\n",
              "      </button>\n",
              "      \n",
              "  <style>\n",
              "    .colab-df-container {\n",
              "      display:flex;\n",
              "      flex-wrap:wrap;\n",
              "      gap: 12px;\n",
              "    }\n",
              "\n",
              "    .colab-df-convert {\n",
              "      background-color: #E8F0FE;\n",
              "      border: none;\n",
              "      border-radius: 50%;\n",
              "      cursor: pointer;\n",
              "      display: none;\n",
              "      fill: #1967D2;\n",
              "      height: 32px;\n",
              "      padding: 0 0 0 0;\n",
              "      width: 32px;\n",
              "    }\n",
              "\n",
              "    .colab-df-convert:hover {\n",
              "      background-color: #E2EBFA;\n",
              "      box-shadow: 0px 1px 2px rgba(60, 64, 67, 0.3), 0px 1px 3px 1px rgba(60, 64, 67, 0.15);\n",
              "      fill: #174EA6;\n",
              "    }\n",
              "\n",
              "    [theme=dark] .colab-df-convert {\n",
              "      background-color: #3B4455;\n",
              "      fill: #D2E3FC;\n",
              "    }\n",
              "\n",
              "    [theme=dark] .colab-df-convert:hover {\n",
              "      background-color: #434B5C;\n",
              "      box-shadow: 0px 1px 3px 1px rgba(0, 0, 0, 0.15);\n",
              "      filter: drop-shadow(0px 1px 2px rgba(0, 0, 0, 0.3));\n",
              "      fill: #FFFFFF;\n",
              "    }\n",
              "  </style>\n",
              "\n",
              "      <script>\n",
              "        const buttonEl =\n",
              "          document.querySelector('#df-d0b1bc70-9160-40f1-b485-c41101018984 button.colab-df-convert');\n",
              "        buttonEl.style.display =\n",
              "          google.colab.kernel.accessAllowed ? 'block' : 'none';\n",
              "\n",
              "        async function convertToInteractive(key) {\n",
              "          const element = document.querySelector('#df-d0b1bc70-9160-40f1-b485-c41101018984');\n",
              "          const dataTable =\n",
              "            await google.colab.kernel.invokeFunction('convertToInteractive',\n",
              "                                                     [key], {});\n",
              "          if (!dataTable) return;\n",
              "\n",
              "          const docLinkHtml = 'Like what you see? Visit the ' +\n",
              "            '<a target=\"_blank\" href=https://colab.research.google.com/notebooks/data_table.ipynb>data table notebook</a>'\n",
              "            + ' to learn more about interactive tables.';\n",
              "          element.innerHTML = '';\n",
              "          dataTable['output_type'] = 'display_data';\n",
              "          await google.colab.output.renderOutput(dataTable, element);\n",
              "          const docLink = document.createElement('div');\n",
              "          docLink.innerHTML = docLinkHtml;\n",
              "          element.appendChild(docLink);\n",
              "        }\n",
              "      </script>\n",
              "    </div>\n",
              "  </div>\n",
              "  "
            ]
          },
          "metadata": {},
          "execution_count": 6
        }
      ]
    },
    {
      "cell_type": "code",
      "source": [
        "# beach volley\n",
        "base = 'gameRating/'\n",
        "path = 'beach_volleyball.csv'\n",
        "print(path)\n",
        "\n",
        "volley = pd.read_csv(base+path,header=0,\n",
        "                     names=['circuit','year','gender','winner1_name','winner2_name','loser1_name','loser2_name'])#,\n",
        "                    #  parse_dates= [1],dtype={'winner1_id':'Int64','winner2_id':'Int64','loser1_name':'Int64','loser2_name':'Int64'})\n",
        "volley.head()"
      ],
      "metadata": {
        "id": "d_0fWdrBpds_",
        "colab": {
          "base_uri": "https://localhost:8080/",
          "height": 336
        },
        "outputId": "0fba9475-802c-4f7e-8a45-3bf257d0fab6"
      },
      "execution_count": null,
      "outputs": [
        {
          "output_type": "stream",
          "name": "stdout",
          "text": [
            "beach_volleyball.csv\n"
          ]
        },
        {
          "output_type": "execute_result",
          "data": {
            "text/plain": [
              "  circuit  year gender      winner1_name    winner2_name   loser1_name  \\\n",
              "0     AVP  2002      M        Kevin Wong   Stein Metzger   Chuck Moore   \n",
              "1     AVP  2002      M      Brad Torsone  Casey Jennings  Mark Paaluhi   \n",
              "2     AVP  2002      M     Eduardo Bacil      Fred Souza   Adam Jewell   \n",
              "3     AVP  2002      M       Brent Doble    Karch Kiraly  David Swatik   \n",
              "4     AVP  2002      M  Albert Hannemann    Jeff Nygaard  Adam Roberts   \n",
              "\n",
              "       loser2_name  \n",
              "0      Ed Ratledge  \n",
              "1   Nick Hannemann  \n",
              "2     Collin Smith  \n",
              "3  Mike Mattarocci  \n",
              "4        Jim Walls  "
            ],
            "text/html": [
              "\n",
              "  <div id=\"df-6c96a44a-19a9-4e3f-b961-bd81cf2dd1d4\">\n",
              "    <div class=\"colab-df-container\">\n",
              "      <div>\n",
              "<style scoped>\n",
              "    .dataframe tbody tr th:only-of-type {\n",
              "        vertical-align: middle;\n",
              "    }\n",
              "\n",
              "    .dataframe tbody tr th {\n",
              "        vertical-align: top;\n",
              "    }\n",
              "\n",
              "    .dataframe thead th {\n",
              "        text-align: right;\n",
              "    }\n",
              "</style>\n",
              "<table border=\"1\" class=\"dataframe\">\n",
              "  <thead>\n",
              "    <tr style=\"text-align: right;\">\n",
              "      <th></th>\n",
              "      <th>circuit</th>\n",
              "      <th>year</th>\n",
              "      <th>gender</th>\n",
              "      <th>winner1_name</th>\n",
              "      <th>winner2_name</th>\n",
              "      <th>loser1_name</th>\n",
              "      <th>loser2_name</th>\n",
              "    </tr>\n",
              "  </thead>\n",
              "  <tbody>\n",
              "    <tr>\n",
              "      <th>0</th>\n",
              "      <td>AVP</td>\n",
              "      <td>2002</td>\n",
              "      <td>M</td>\n",
              "      <td>Kevin Wong</td>\n",
              "      <td>Stein Metzger</td>\n",
              "      <td>Chuck Moore</td>\n",
              "      <td>Ed Ratledge</td>\n",
              "    </tr>\n",
              "    <tr>\n",
              "      <th>1</th>\n",
              "      <td>AVP</td>\n",
              "      <td>2002</td>\n",
              "      <td>M</td>\n",
              "      <td>Brad Torsone</td>\n",
              "      <td>Casey Jennings</td>\n",
              "      <td>Mark Paaluhi</td>\n",
              "      <td>Nick Hannemann</td>\n",
              "    </tr>\n",
              "    <tr>\n",
              "      <th>2</th>\n",
              "      <td>AVP</td>\n",
              "      <td>2002</td>\n",
              "      <td>M</td>\n",
              "      <td>Eduardo Bacil</td>\n",
              "      <td>Fred Souza</td>\n",
              "      <td>Adam Jewell</td>\n",
              "      <td>Collin Smith</td>\n",
              "    </tr>\n",
              "    <tr>\n",
              "      <th>3</th>\n",
              "      <td>AVP</td>\n",
              "      <td>2002</td>\n",
              "      <td>M</td>\n",
              "      <td>Brent Doble</td>\n",
              "      <td>Karch Kiraly</td>\n",
              "      <td>David Swatik</td>\n",
              "      <td>Mike Mattarocci</td>\n",
              "    </tr>\n",
              "    <tr>\n",
              "      <th>4</th>\n",
              "      <td>AVP</td>\n",
              "      <td>2002</td>\n",
              "      <td>M</td>\n",
              "      <td>Albert Hannemann</td>\n",
              "      <td>Jeff Nygaard</td>\n",
              "      <td>Adam Roberts</td>\n",
              "      <td>Jim Walls</td>\n",
              "    </tr>\n",
              "  </tbody>\n",
              "</table>\n",
              "</div>\n",
              "      <button class=\"colab-df-convert\" onclick=\"convertToInteractive('df-6c96a44a-19a9-4e3f-b961-bd81cf2dd1d4')\"\n",
              "              title=\"Convert this dataframe to an interactive table.\"\n",
              "              style=\"display:none;\">\n",
              "        \n",
              "  <svg xmlns=\"http://www.w3.org/2000/svg\" height=\"24px\"viewBox=\"0 0 24 24\"\n",
              "       width=\"24px\">\n",
              "    <path d=\"M0 0h24v24H0V0z\" fill=\"none\"/>\n",
              "    <path d=\"M18.56 5.44l.94 2.06.94-2.06 2.06-.94-2.06-.94-.94-2.06-.94 2.06-2.06.94zm-11 1L8.5 8.5l.94-2.06 2.06-.94-2.06-.94L8.5 2.5l-.94 2.06-2.06.94zm10 10l.94 2.06.94-2.06 2.06-.94-2.06-.94-.94-2.06-.94 2.06-2.06.94z\"/><path d=\"M17.41 7.96l-1.37-1.37c-.4-.4-.92-.59-1.43-.59-.52 0-1.04.2-1.43.59L10.3 9.45l-7.72 7.72c-.78.78-.78 2.05 0 2.83L4 21.41c.39.39.9.59 1.41.59.51 0 1.02-.2 1.41-.59l7.78-7.78 2.81-2.81c.8-.78.8-2.07 0-2.86zM5.41 20L4 18.59l7.72-7.72 1.47 1.35L5.41 20z\"/>\n",
              "  </svg>\n",
              "      </button>\n",
              "      \n",
              "  <style>\n",
              "    .colab-df-container {\n",
              "      display:flex;\n",
              "      flex-wrap:wrap;\n",
              "      gap: 12px;\n",
              "    }\n",
              "\n",
              "    .colab-df-convert {\n",
              "      background-color: #E8F0FE;\n",
              "      border: none;\n",
              "      border-radius: 50%;\n",
              "      cursor: pointer;\n",
              "      display: none;\n",
              "      fill: #1967D2;\n",
              "      height: 32px;\n",
              "      padding: 0 0 0 0;\n",
              "      width: 32px;\n",
              "    }\n",
              "\n",
              "    .colab-df-convert:hover {\n",
              "      background-color: #E2EBFA;\n",
              "      box-shadow: 0px 1px 2px rgba(60, 64, 67, 0.3), 0px 1px 3px 1px rgba(60, 64, 67, 0.15);\n",
              "      fill: #174EA6;\n",
              "    }\n",
              "\n",
              "    [theme=dark] .colab-df-convert {\n",
              "      background-color: #3B4455;\n",
              "      fill: #D2E3FC;\n",
              "    }\n",
              "\n",
              "    [theme=dark] .colab-df-convert:hover {\n",
              "      background-color: #434B5C;\n",
              "      box-shadow: 0px 1px 3px 1px rgba(0, 0, 0, 0.15);\n",
              "      filter: drop-shadow(0px 1px 2px rgba(0, 0, 0, 0.3));\n",
              "      fill: #FFFFFF;\n",
              "    }\n",
              "  </style>\n",
              "\n",
              "      <script>\n",
              "        const buttonEl =\n",
              "          document.querySelector('#df-6c96a44a-19a9-4e3f-b961-bd81cf2dd1d4 button.colab-df-convert');\n",
              "        buttonEl.style.display =\n",
              "          google.colab.kernel.accessAllowed ? 'block' : 'none';\n",
              "\n",
              "        async function convertToInteractive(key) {\n",
              "          const element = document.querySelector('#df-6c96a44a-19a9-4e3f-b961-bd81cf2dd1d4');\n",
              "          const dataTable =\n",
              "            await google.colab.kernel.invokeFunction('convertToInteractive',\n",
              "                                                     [key], {});\n",
              "          if (!dataTable) return;\n",
              "\n",
              "          const docLinkHtml = 'Like what you see? Visit the ' +\n",
              "            '<a target=\"_blank\" href=https://colab.research.google.com/notebooks/data_table.ipynb>data table notebook</a>'\n",
              "            + ' to learn more about interactive tables.';\n",
              "          element.innerHTML = '';\n",
              "          dataTable['output_type'] = 'display_data';\n",
              "          await google.colab.output.renderOutput(dataTable, element);\n",
              "          const docLink = document.createElement('div');\n",
              "          docLink.innerHTML = docLinkHtml;\n",
              "          element.appendChild(docLink);\n",
              "        }\n",
              "      </script>\n",
              "    </div>\n",
              "  </div>\n",
              "  "
            ]
          },
          "metadata": {},
          "execution_count": 7
        }
      ]
    },
    {
      "cell_type": "code",
      "source": [
        "# clean\n",
        "print(len(volley))\n",
        "volley = volley[volley['gender']==\"W\"]\n",
        "print(len(volley))\n",
        "\n",
        "volley = volley[volley['circuit']=='FIVB']\n",
        "print(len(volley))\n",
        "\n",
        "volley = volley[volley['year']>=2007]\n",
        "volley = volley[volley['year']<=2015]\n",
        "print(len(volley))"
      ],
      "metadata": {
        "colab": {
          "base_uri": "https://localhost:8080/"
        },
        "id": "yxAwlvSeZ0dl",
        "outputId": "a078c92e-c04d-48ad-b2af-286cef7b568e"
      },
      "execution_count": null,
      "outputs": [
        {
          "output_type": "stream",
          "name": "stdout",
          "text": [
            "81232\n",
            "38583\n",
            "26895\n",
            "11596\n"
          ]
        }
      ]
    },
    {
      "cell_type": "markdown",
      "source": [
        "# split"
      ],
      "metadata": {
        "id": "BECD822W6BxB"
      }
    },
    {
      "cell_type": "code",
      "source": [
        "# split by year\n",
        "volley_tr = volley[volley['year'] < 2015]\n",
        "volley_val = volley[volley['year'] >= 2015]\n",
        "\n",
        "tennis_tr = tennis[tennis['tourney_date'].dt.year <= 2017]\n",
        "tennis_val = tennis[tennis['tourney_date'].dt.year > 2017]"
      ],
      "metadata": {
        "id": "sHLLEt_t6Cku"
      },
      "execution_count": null,
      "outputs": []
    },
    {
      "cell_type": "code",
      "source": [
        "volley_tr.tail()"
      ],
      "metadata": {
        "colab": {
          "base_uri": "https://localhost:8080/",
          "height": 204
        },
        "id": "kJgPREJv7BSE",
        "outputId": "0a06bd28-ab61-4abc-c50e-777b91f48c54"
      },
      "execution_count": null,
      "outputs": [
        {
          "output_type": "execute_result",
          "data": {
            "text/plain": [
              "      circuit  year gender        winner1_name       winner2_name  \\\n",
              "56572    FIVB  2014      W        Sayaka Mizoe   Takemi Nishibori   \n",
              "56573    FIVB  2014      W  Barbora Hermannova  Martina Bonnerova   \n",
              "56574    FIVB  2014      W        Sayaka Mizoe   Takemi Nishibori   \n",
              "56575    FIVB  2014      W    Evgeniya Ukolova    Maria Prokopeva   \n",
              "56576    FIVB  2014      W  Barbora Hermannova  Martina Bonnerova   \n",
              "\n",
              "             loser1_name        loser2_name  \n",
              "56572  Maria Tsiartsiani  Vasiliki Arvaniti  \n",
              "56573        Kim DiCello        Lane Carico  \n",
              "56574   Evgeniya Ukolova    Maria Prokopeva  \n",
              "56575        Kim DiCello        Lane Carico  \n",
              "56576       Sayaka Mizoe   Takemi Nishibori  "
            ],
            "text/html": [
              "\n",
              "  <div id=\"df-d0439348-68bc-4231-b65f-56eb84e4f622\">\n",
              "    <div class=\"colab-df-container\">\n",
              "      <div>\n",
              "<style scoped>\n",
              "    .dataframe tbody tr th:only-of-type {\n",
              "        vertical-align: middle;\n",
              "    }\n",
              "\n",
              "    .dataframe tbody tr th {\n",
              "        vertical-align: top;\n",
              "    }\n",
              "\n",
              "    .dataframe thead th {\n",
              "        text-align: right;\n",
              "    }\n",
              "</style>\n",
              "<table border=\"1\" class=\"dataframe\">\n",
              "  <thead>\n",
              "    <tr style=\"text-align: right;\">\n",
              "      <th></th>\n",
              "      <th>circuit</th>\n",
              "      <th>year</th>\n",
              "      <th>gender</th>\n",
              "      <th>winner1_name</th>\n",
              "      <th>winner2_name</th>\n",
              "      <th>loser1_name</th>\n",
              "      <th>loser2_name</th>\n",
              "    </tr>\n",
              "  </thead>\n",
              "  <tbody>\n",
              "    <tr>\n",
              "      <th>56572</th>\n",
              "      <td>FIVB</td>\n",
              "      <td>2014</td>\n",
              "      <td>W</td>\n",
              "      <td>Sayaka Mizoe</td>\n",
              "      <td>Takemi Nishibori</td>\n",
              "      <td>Maria Tsiartsiani</td>\n",
              "      <td>Vasiliki Arvaniti</td>\n",
              "    </tr>\n",
              "    <tr>\n",
              "      <th>56573</th>\n",
              "      <td>FIVB</td>\n",
              "      <td>2014</td>\n",
              "      <td>W</td>\n",
              "      <td>Barbora Hermannova</td>\n",
              "      <td>Martina Bonnerova</td>\n",
              "      <td>Kim DiCello</td>\n",
              "      <td>Lane Carico</td>\n",
              "    </tr>\n",
              "    <tr>\n",
              "      <th>56574</th>\n",
              "      <td>FIVB</td>\n",
              "      <td>2014</td>\n",
              "      <td>W</td>\n",
              "      <td>Sayaka Mizoe</td>\n",
              "      <td>Takemi Nishibori</td>\n",
              "      <td>Evgeniya Ukolova</td>\n",
              "      <td>Maria Prokopeva</td>\n",
              "    </tr>\n",
              "    <tr>\n",
              "      <th>56575</th>\n",
              "      <td>FIVB</td>\n",
              "      <td>2014</td>\n",
              "      <td>W</td>\n",
              "      <td>Evgeniya Ukolova</td>\n",
              "      <td>Maria Prokopeva</td>\n",
              "      <td>Kim DiCello</td>\n",
              "      <td>Lane Carico</td>\n",
              "    </tr>\n",
              "    <tr>\n",
              "      <th>56576</th>\n",
              "      <td>FIVB</td>\n",
              "      <td>2014</td>\n",
              "      <td>W</td>\n",
              "      <td>Barbora Hermannova</td>\n",
              "      <td>Martina Bonnerova</td>\n",
              "      <td>Sayaka Mizoe</td>\n",
              "      <td>Takemi Nishibori</td>\n",
              "    </tr>\n",
              "  </tbody>\n",
              "</table>\n",
              "</div>\n",
              "      <button class=\"colab-df-convert\" onclick=\"convertToInteractive('df-d0439348-68bc-4231-b65f-56eb84e4f622')\"\n",
              "              title=\"Convert this dataframe to an interactive table.\"\n",
              "              style=\"display:none;\">\n",
              "        \n",
              "  <svg xmlns=\"http://www.w3.org/2000/svg\" height=\"24px\"viewBox=\"0 0 24 24\"\n",
              "       width=\"24px\">\n",
              "    <path d=\"M0 0h24v24H0V0z\" fill=\"none\"/>\n",
              "    <path d=\"M18.56 5.44l.94 2.06.94-2.06 2.06-.94-2.06-.94-.94-2.06-.94 2.06-2.06.94zm-11 1L8.5 8.5l.94-2.06 2.06-.94-2.06-.94L8.5 2.5l-.94 2.06-2.06.94zm10 10l.94 2.06.94-2.06 2.06-.94-2.06-.94-.94-2.06-.94 2.06-2.06.94z\"/><path d=\"M17.41 7.96l-1.37-1.37c-.4-.4-.92-.59-1.43-.59-.52 0-1.04.2-1.43.59L10.3 9.45l-7.72 7.72c-.78.78-.78 2.05 0 2.83L4 21.41c.39.39.9.59 1.41.59.51 0 1.02-.2 1.41-.59l7.78-7.78 2.81-2.81c.8-.78.8-2.07 0-2.86zM5.41 20L4 18.59l7.72-7.72 1.47 1.35L5.41 20z\"/>\n",
              "  </svg>\n",
              "      </button>\n",
              "      \n",
              "  <style>\n",
              "    .colab-df-container {\n",
              "      display:flex;\n",
              "      flex-wrap:wrap;\n",
              "      gap: 12px;\n",
              "    }\n",
              "\n",
              "    .colab-df-convert {\n",
              "      background-color: #E8F0FE;\n",
              "      border: none;\n",
              "      border-radius: 50%;\n",
              "      cursor: pointer;\n",
              "      display: none;\n",
              "      fill: #1967D2;\n",
              "      height: 32px;\n",
              "      padding: 0 0 0 0;\n",
              "      width: 32px;\n",
              "    }\n",
              "\n",
              "    .colab-df-convert:hover {\n",
              "      background-color: #E2EBFA;\n",
              "      box-shadow: 0px 1px 2px rgba(60, 64, 67, 0.3), 0px 1px 3px 1px rgba(60, 64, 67, 0.15);\n",
              "      fill: #174EA6;\n",
              "    }\n",
              "\n",
              "    [theme=dark] .colab-df-convert {\n",
              "      background-color: #3B4455;\n",
              "      fill: #D2E3FC;\n",
              "    }\n",
              "\n",
              "    [theme=dark] .colab-df-convert:hover {\n",
              "      background-color: #434B5C;\n",
              "      box-shadow: 0px 1px 3px 1px rgba(0, 0, 0, 0.15);\n",
              "      filter: drop-shadow(0px 1px 2px rgba(0, 0, 0, 0.3));\n",
              "      fill: #FFFFFF;\n",
              "    }\n",
              "  </style>\n",
              "\n",
              "      <script>\n",
              "        const buttonEl =\n",
              "          document.querySelector('#df-d0439348-68bc-4231-b65f-56eb84e4f622 button.colab-df-convert');\n",
              "        buttonEl.style.display =\n",
              "          google.colab.kernel.accessAllowed ? 'block' : 'none';\n",
              "\n",
              "        async function convertToInteractive(key) {\n",
              "          const element = document.querySelector('#df-d0439348-68bc-4231-b65f-56eb84e4f622');\n",
              "          const dataTable =\n",
              "            await google.colab.kernel.invokeFunction('convertToInteractive',\n",
              "                                                     [key], {});\n",
              "          if (!dataTable) return;\n",
              "\n",
              "          const docLinkHtml = 'Like what you see? Visit the ' +\n",
              "            '<a target=\"_blank\" href=https://colab.research.google.com/notebooks/data_table.ipynb>data table notebook</a>'\n",
              "            + ' to learn more about interactive tables.';\n",
              "          element.innerHTML = '';\n",
              "          dataTable['output_type'] = 'display_data';\n",
              "          await google.colab.output.renderOutput(dataTable, element);\n",
              "          const docLink = document.createElement('div');\n",
              "          docLink.innerHTML = docLinkHtml;\n",
              "          element.appendChild(docLink);\n",
              "        }\n",
              "      </script>\n",
              "    </div>\n",
              "  </div>\n",
              "  "
            ]
          },
          "metadata": {},
          "execution_count": 10
        }
      ]
    },
    {
      "cell_type": "code",
      "source": [
        "tennis_tr.tail()"
      ],
      "metadata": {
        "colab": {
          "base_uri": "https://localhost:8080/",
          "height": 204
        },
        "id": "8OS6Shci0Z6w",
        "outputId": "ff60aa6a-d499-4d51-91c0-e1e1cc914902"
      },
      "execution_count": null,
      "outputs": [
        {
          "output_type": "execute_result",
          "data": {
            "text/plain": [
              "     tourney_date surface  winner1_name  winner2_name  loser1_name  \\\n",
              "9854   2017-11-13    Hard        103594        106207       103184   \n",
              "9855   2017-11-13    Hard        105573        105188       103828   \n",
              "9856   2017-11-13    Hard        105573        105188       104071   \n",
              "9857   2017-11-13    Hard        105992        105030       105573   \n",
              "9858   2017-11-13    Hard        105992        105030       103828   \n",
              "\n",
              "      loser2_name  \n",
              "9854       103185  \n",
              "9855       104486  \n",
              "9856       104330  \n",
              "9857       105188  \n",
              "9858       104486  "
            ],
            "text/html": [
              "\n",
              "  <div id=\"df-628cfae2-a86e-48ad-9830-14051faaf6ac\">\n",
              "    <div class=\"colab-df-container\">\n",
              "      <div>\n",
              "<style scoped>\n",
              "    .dataframe tbody tr th:only-of-type {\n",
              "        vertical-align: middle;\n",
              "    }\n",
              "\n",
              "    .dataframe tbody tr th {\n",
              "        vertical-align: top;\n",
              "    }\n",
              "\n",
              "    .dataframe thead th {\n",
              "        text-align: right;\n",
              "    }\n",
              "</style>\n",
              "<table border=\"1\" class=\"dataframe\">\n",
              "  <thead>\n",
              "    <tr style=\"text-align: right;\">\n",
              "      <th></th>\n",
              "      <th>tourney_date</th>\n",
              "      <th>surface</th>\n",
              "      <th>winner1_name</th>\n",
              "      <th>winner2_name</th>\n",
              "      <th>loser1_name</th>\n",
              "      <th>loser2_name</th>\n",
              "    </tr>\n",
              "  </thead>\n",
              "  <tbody>\n",
              "    <tr>\n",
              "      <th>9854</th>\n",
              "      <td>2017-11-13</td>\n",
              "      <td>Hard</td>\n",
              "      <td>103594</td>\n",
              "      <td>106207</td>\n",
              "      <td>103184</td>\n",
              "      <td>103185</td>\n",
              "    </tr>\n",
              "    <tr>\n",
              "      <th>9855</th>\n",
              "      <td>2017-11-13</td>\n",
              "      <td>Hard</td>\n",
              "      <td>105573</td>\n",
              "      <td>105188</td>\n",
              "      <td>103828</td>\n",
              "      <td>104486</td>\n",
              "    </tr>\n",
              "    <tr>\n",
              "      <th>9856</th>\n",
              "      <td>2017-11-13</td>\n",
              "      <td>Hard</td>\n",
              "      <td>105573</td>\n",
              "      <td>105188</td>\n",
              "      <td>104071</td>\n",
              "      <td>104330</td>\n",
              "    </tr>\n",
              "    <tr>\n",
              "      <th>9857</th>\n",
              "      <td>2017-11-13</td>\n",
              "      <td>Hard</td>\n",
              "      <td>105992</td>\n",
              "      <td>105030</td>\n",
              "      <td>105573</td>\n",
              "      <td>105188</td>\n",
              "    </tr>\n",
              "    <tr>\n",
              "      <th>9858</th>\n",
              "      <td>2017-11-13</td>\n",
              "      <td>Hard</td>\n",
              "      <td>105992</td>\n",
              "      <td>105030</td>\n",
              "      <td>103828</td>\n",
              "      <td>104486</td>\n",
              "    </tr>\n",
              "  </tbody>\n",
              "</table>\n",
              "</div>\n",
              "      <button class=\"colab-df-convert\" onclick=\"convertToInteractive('df-628cfae2-a86e-48ad-9830-14051faaf6ac')\"\n",
              "              title=\"Convert this dataframe to an interactive table.\"\n",
              "              style=\"display:none;\">\n",
              "        \n",
              "  <svg xmlns=\"http://www.w3.org/2000/svg\" height=\"24px\"viewBox=\"0 0 24 24\"\n",
              "       width=\"24px\">\n",
              "    <path d=\"M0 0h24v24H0V0z\" fill=\"none\"/>\n",
              "    <path d=\"M18.56 5.44l.94 2.06.94-2.06 2.06-.94-2.06-.94-.94-2.06-.94 2.06-2.06.94zm-11 1L8.5 8.5l.94-2.06 2.06-.94-2.06-.94L8.5 2.5l-.94 2.06-2.06.94zm10 10l.94 2.06.94-2.06 2.06-.94-2.06-.94-.94-2.06-.94 2.06-2.06.94z\"/><path d=\"M17.41 7.96l-1.37-1.37c-.4-.4-.92-.59-1.43-.59-.52 0-1.04.2-1.43.59L10.3 9.45l-7.72 7.72c-.78.78-.78 2.05 0 2.83L4 21.41c.39.39.9.59 1.41.59.51 0 1.02-.2 1.41-.59l7.78-7.78 2.81-2.81c.8-.78.8-2.07 0-2.86zM5.41 20L4 18.59l7.72-7.72 1.47 1.35L5.41 20z\"/>\n",
              "  </svg>\n",
              "      </button>\n",
              "      \n",
              "  <style>\n",
              "    .colab-df-container {\n",
              "      display:flex;\n",
              "      flex-wrap:wrap;\n",
              "      gap: 12px;\n",
              "    }\n",
              "\n",
              "    .colab-df-convert {\n",
              "      background-color: #E8F0FE;\n",
              "      border: none;\n",
              "      border-radius: 50%;\n",
              "      cursor: pointer;\n",
              "      display: none;\n",
              "      fill: #1967D2;\n",
              "      height: 32px;\n",
              "      padding: 0 0 0 0;\n",
              "      width: 32px;\n",
              "    }\n",
              "\n",
              "    .colab-df-convert:hover {\n",
              "      background-color: #E2EBFA;\n",
              "      box-shadow: 0px 1px 2px rgba(60, 64, 67, 0.3), 0px 1px 3px 1px rgba(60, 64, 67, 0.15);\n",
              "      fill: #174EA6;\n",
              "    }\n",
              "\n",
              "    [theme=dark] .colab-df-convert {\n",
              "      background-color: #3B4455;\n",
              "      fill: #D2E3FC;\n",
              "    }\n",
              "\n",
              "    [theme=dark] .colab-df-convert:hover {\n",
              "      background-color: #434B5C;\n",
              "      box-shadow: 0px 1px 3px 1px rgba(0, 0, 0, 0.15);\n",
              "      filter: drop-shadow(0px 1px 2px rgba(0, 0, 0, 0.3));\n",
              "      fill: #FFFFFF;\n",
              "    }\n",
              "  </style>\n",
              "\n",
              "      <script>\n",
              "        const buttonEl =\n",
              "          document.querySelector('#df-628cfae2-a86e-48ad-9830-14051faaf6ac button.colab-df-convert');\n",
              "        buttonEl.style.display =\n",
              "          google.colab.kernel.accessAllowed ? 'block' : 'none';\n",
              "\n",
              "        async function convertToInteractive(key) {\n",
              "          const element = document.querySelector('#df-628cfae2-a86e-48ad-9830-14051faaf6ac');\n",
              "          const dataTable =\n",
              "            await google.colab.kernel.invokeFunction('convertToInteractive',\n",
              "                                                     [key], {});\n",
              "          if (!dataTable) return;\n",
              "\n",
              "          const docLinkHtml = 'Like what you see? Visit the ' +\n",
              "            '<a target=\"_blank\" href=https://colab.research.google.com/notebooks/data_table.ipynb>data table notebook</a>'\n",
              "            + ' to learn more about interactive tables.';\n",
              "          element.innerHTML = '';\n",
              "          dataTable['output_type'] = 'display_data';\n",
              "          await google.colab.output.renderOutput(dataTable, element);\n",
              "          const docLink = document.createElement('div');\n",
              "          docLink.innerHTML = docLinkHtml;\n",
              "          element.appendChild(docLink);\n",
              "        }\n",
              "      </script>\n",
              "    </div>\n",
              "  </div>\n",
              "  "
            ]
          },
          "metadata": {},
          "execution_count": 11
        }
      ]
    },
    {
      "cell_type": "code",
      "source": [
        "# get 2 inputs(winners, losers)\n",
        "# col_name = ['surface','winner_name','loser_name'] if config['single'] else ['surface','winner1_name','winner2_name','loser1_name','loser2_name']\n",
        "col_name =  ['winner1_name','winner2_name','loser1_name','loser2_name']\n",
        "\n",
        "volley_tr, volley_val = volley_tr[col_name], volley_val[col_name]\n",
        "# winners,losers = volley_tr[col_name[:len(col_name)//2]], volley_tr[col_name[len(col_name)//2:]]\n",
        "# winners_val,losers_val = volley_val[col_name[:len(col_name)//2]], volley_val[col_name[len(col_name)//2:]]\n",
        "\n",
        "tennis_tr, tennis_val = tennis_tr[col_name], tennis_val[col_name]\n",
        "# winners,losers = tennis_tr[col_name[:len(col_name)//2]], tennis_tr[col_name[len(col_name)//2:]]\n",
        "# winners_val,losers_val = tennis_val[col_name[:len(col_name)//2]], tennis_val[col_name[len(col_name)//2:]]\n",
        "\n",
        "tennis_val.head()\n",
        "\n",
        "# volley_val.head()"
      ],
      "metadata": {
        "colab": {
          "base_uri": "https://localhost:8080/",
          "height": 204
        },
        "id": "bh0DD_Hk8HWq",
        "outputId": "cd6ffc0a-7d03-4a02-8230-c92b49271f51"
      },
      "execution_count": null,
      "outputs": [
        {
          "output_type": "execute_result",
          "data": {
            "text/plain": [
              "      winner1_name  winner2_name  loser1_name  loser2_name\n",
              "9859        105573        105188       105683       133430\n",
              "9860        105051        105357       104592       106000\n",
              "9861        106401        105591       105428       104693\n",
              "9862        105777        105992       103720       111442\n",
              "9863        105323        104677       104600       104802"
            ],
            "text/html": [
              "\n",
              "  <div id=\"df-bc4ea5c1-1139-462d-afc1-3e7bfd66b4e7\">\n",
              "    <div class=\"colab-df-container\">\n",
              "      <div>\n",
              "<style scoped>\n",
              "    .dataframe tbody tr th:only-of-type {\n",
              "        vertical-align: middle;\n",
              "    }\n",
              "\n",
              "    .dataframe tbody tr th {\n",
              "        vertical-align: top;\n",
              "    }\n",
              "\n",
              "    .dataframe thead th {\n",
              "        text-align: right;\n",
              "    }\n",
              "</style>\n",
              "<table border=\"1\" class=\"dataframe\">\n",
              "  <thead>\n",
              "    <tr style=\"text-align: right;\">\n",
              "      <th></th>\n",
              "      <th>winner1_name</th>\n",
              "      <th>winner2_name</th>\n",
              "      <th>loser1_name</th>\n",
              "      <th>loser2_name</th>\n",
              "    </tr>\n",
              "  </thead>\n",
              "  <tbody>\n",
              "    <tr>\n",
              "      <th>9859</th>\n",
              "      <td>105573</td>\n",
              "      <td>105188</td>\n",
              "      <td>105683</td>\n",
              "      <td>133430</td>\n",
              "    </tr>\n",
              "    <tr>\n",
              "      <th>9860</th>\n",
              "      <td>105051</td>\n",
              "      <td>105357</td>\n",
              "      <td>104592</td>\n",
              "      <td>106000</td>\n",
              "    </tr>\n",
              "    <tr>\n",
              "      <th>9861</th>\n",
              "      <td>106401</td>\n",
              "      <td>105591</td>\n",
              "      <td>105428</td>\n",
              "      <td>104693</td>\n",
              "    </tr>\n",
              "    <tr>\n",
              "      <th>9862</th>\n",
              "      <td>105777</td>\n",
              "      <td>105992</td>\n",
              "      <td>103720</td>\n",
              "      <td>111442</td>\n",
              "    </tr>\n",
              "    <tr>\n",
              "      <th>9863</th>\n",
              "      <td>105323</td>\n",
              "      <td>104677</td>\n",
              "      <td>104600</td>\n",
              "      <td>104802</td>\n",
              "    </tr>\n",
              "  </tbody>\n",
              "</table>\n",
              "</div>\n",
              "      <button class=\"colab-df-convert\" onclick=\"convertToInteractive('df-bc4ea5c1-1139-462d-afc1-3e7bfd66b4e7')\"\n",
              "              title=\"Convert this dataframe to an interactive table.\"\n",
              "              style=\"display:none;\">\n",
              "        \n",
              "  <svg xmlns=\"http://www.w3.org/2000/svg\" height=\"24px\"viewBox=\"0 0 24 24\"\n",
              "       width=\"24px\">\n",
              "    <path d=\"M0 0h24v24H0V0z\" fill=\"none\"/>\n",
              "    <path d=\"M18.56 5.44l.94 2.06.94-2.06 2.06-.94-2.06-.94-.94-2.06-.94 2.06-2.06.94zm-11 1L8.5 8.5l.94-2.06 2.06-.94-2.06-.94L8.5 2.5l-.94 2.06-2.06.94zm10 10l.94 2.06.94-2.06 2.06-.94-2.06-.94-.94-2.06-.94 2.06-2.06.94z\"/><path d=\"M17.41 7.96l-1.37-1.37c-.4-.4-.92-.59-1.43-.59-.52 0-1.04.2-1.43.59L10.3 9.45l-7.72 7.72c-.78.78-.78 2.05 0 2.83L4 21.41c.39.39.9.59 1.41.59.51 0 1.02-.2 1.41-.59l7.78-7.78 2.81-2.81c.8-.78.8-2.07 0-2.86zM5.41 20L4 18.59l7.72-7.72 1.47 1.35L5.41 20z\"/>\n",
              "  </svg>\n",
              "      </button>\n",
              "      \n",
              "  <style>\n",
              "    .colab-df-container {\n",
              "      display:flex;\n",
              "      flex-wrap:wrap;\n",
              "      gap: 12px;\n",
              "    }\n",
              "\n",
              "    .colab-df-convert {\n",
              "      background-color: #E8F0FE;\n",
              "      border: none;\n",
              "      border-radius: 50%;\n",
              "      cursor: pointer;\n",
              "      display: none;\n",
              "      fill: #1967D2;\n",
              "      height: 32px;\n",
              "      padding: 0 0 0 0;\n",
              "      width: 32px;\n",
              "    }\n",
              "\n",
              "    .colab-df-convert:hover {\n",
              "      background-color: #E2EBFA;\n",
              "      box-shadow: 0px 1px 2px rgba(60, 64, 67, 0.3), 0px 1px 3px 1px rgba(60, 64, 67, 0.15);\n",
              "      fill: #174EA6;\n",
              "    }\n",
              "\n",
              "    [theme=dark] .colab-df-convert {\n",
              "      background-color: #3B4455;\n",
              "      fill: #D2E3FC;\n",
              "    }\n",
              "\n",
              "    [theme=dark] .colab-df-convert:hover {\n",
              "      background-color: #434B5C;\n",
              "      box-shadow: 0px 1px 3px 1px rgba(0, 0, 0, 0.15);\n",
              "      filter: drop-shadow(0px 1px 2px rgba(0, 0, 0, 0.3));\n",
              "      fill: #FFFFFF;\n",
              "    }\n",
              "  </style>\n",
              "\n",
              "      <script>\n",
              "        const buttonEl =\n",
              "          document.querySelector('#df-bc4ea5c1-1139-462d-afc1-3e7bfd66b4e7 button.colab-df-convert');\n",
              "        buttonEl.style.display =\n",
              "          google.colab.kernel.accessAllowed ? 'block' : 'none';\n",
              "\n",
              "        async function convertToInteractive(key) {\n",
              "          const element = document.querySelector('#df-bc4ea5c1-1139-462d-afc1-3e7bfd66b4e7');\n",
              "          const dataTable =\n",
              "            await google.colab.kernel.invokeFunction('convertToInteractive',\n",
              "                                                     [key], {});\n",
              "          if (!dataTable) return;\n",
              "\n",
              "          const docLinkHtml = 'Like what you see? Visit the ' +\n",
              "            '<a target=\"_blank\" href=https://colab.research.google.com/notebooks/data_table.ipynb>data table notebook</a>'\n",
              "            + ' to learn more about interactive tables.';\n",
              "          element.innerHTML = '';\n",
              "          dataTable['output_type'] = 'display_data';\n",
              "          await google.colab.output.renderOutput(dataTable, element);\n",
              "          const docLink = document.createElement('div');\n",
              "          docLink.innerHTML = docLinkHtml;\n",
              "          element.appendChild(docLink);\n",
              "        }\n",
              "      </script>\n",
              "    </div>\n",
              "  </div>\n",
              "  "
            ]
          },
          "metadata": {},
          "execution_count": 12
        }
      ]
    },
    {
      "cell_type": "markdown",
      "source": [
        "## DESCRI"
      ],
      "metadata": {
        "id": "oImLrP-Q72xk"
      }
    },
    {
      "cell_type": "code",
      "source": [
        "print('trainning size: %d'%(volley_tr.shape[0]))\n",
        "print('testing size: %d'%(volley_val.shape[0]))"
      ],
      "metadata": {
        "colab": {
          "base_uri": "https://localhost:8080/"
        },
        "id": "pXXQoq5w1VIj",
        "outputId": "03b68f32-aa71-487c-fde3-630ae7ce655e"
      },
      "execution_count": null,
      "outputs": [
        {
          "output_type": "stream",
          "name": "stdout",
          "text": [
            "trainning size: 9998\n",
            "testing size: 1598\n"
          ]
        }
      ]
    },
    {
      "cell_type": "code",
      "source": [
        "print('trainning size: %d'%(tennis_tr.shape[0]))\n",
        "print('testing size: %d'%(tennis_val.shape[0]))"
      ],
      "metadata": {
        "colab": {
          "base_uri": "https://localhost:8080/"
        },
        "outputId": "335d03be-d3d3-4681-ea25-16b63f058690",
        "id": "hN2Bpuj9aDoE"
      },
      "execution_count": null,
      "outputs": [
        {
          "output_type": "stream",
          "name": "stdout",
          "text": [
            "trainning size: 9859\n",
            "testing size: 2571\n"
          ]
        }
      ]
    },
    {
      "cell_type": "markdown",
      "source": [
        "# analysis of structure for tr"
      ],
      "metadata": {
        "id": "X_gmD-6BsOqP"
      }
    },
    {
      "cell_type": "code",
      "source": [
        "def get_all_players(data):\n",
        "  all_players = []\n",
        "  for game in np.arange(data.shape[0]):\n",
        "    # f'{data.iloc[i,0]}',f'{data.iloc[i,1]}',f'{data.iloc[i,2]}',f'{data.iloc[i,3]}'\n",
        "    all_players.extend([f'{player}' for player in data.iloc[game,:]])\n",
        "  all_players = np.array(all_players)\n",
        "  Structure = Counter(all_players)\n",
        "  return all_players, Structure\n",
        "\n",
        "def get_all_teams(data):\n",
        "  all_teams = []\n",
        "  for i in np.arange(data.shape[0]):\n",
        "    all_teams.append(f'{data.iloc[i,0]}, {data.iloc[i,1]}')\n",
        "    all_teams.append(f'{data.iloc[i,2]}, {data.iloc[i,3]}')\n",
        "  all_teams = np.array(all_teams)\n",
        "  Structure = Counter(all_teams)\n",
        "  return all_teams, Counter(Structure)\n",
        "\n",
        "def show_table(data, tabletype='teams'):\n",
        "  tabletype = tabletype.lower()\n",
        "  if tabletype == 'players':\n",
        "    all, Structure = get_all_players(data)\n",
        "  elif tabletype == 'teams':\n",
        "    all, Structure = get_all_teams(data)\n",
        "  table = pd.DataFrame(Structure.items()).transpose()\n",
        "  return table\n",
        "\n",
        "def get_teams_info(data, greater):\n",
        "  all_teams, TeamStructure = get_all_teams(data)\n",
        "  games = len(data) #len(all_teams)//2\n",
        "  combinations = len(TeamStructure)\n",
        "  cnt = TeamStructure.values() # dict_values()\n",
        "  cnt = np.array([list(cnt)])\n",
        "  print(f'#(repeat): {(cnt>greater).sum()} \\t #(games): {games} \\t #(combinations): {combinations} \\t ratio: {((cnt>greater).sum()/combinations):.4f}')\n",
        "  print(f'共{games}場比賽中，其中總共有{combinations}組隊伍，而這些隊伍出場只有{greater}次以內的隊伍共有{(cnt<=greater).sum()}組')\n",
        "\n",
        "def find_repeat(data_tr, data_val, greater=1):\n",
        "  p1 = set() # val只出現一次的組的人\n",
        "  _, PlayerStructure_tr = get_all_players(data_tr)\n",
        "  _, TeamStructure_val = get_all_teams(data_val)\n",
        "  for k, v in TeamStructure_val.items():\n",
        "    if v<=greater: p1.update(k.split(', '))\n",
        "  repeat = p1 & set(PlayerStructure_tr) # intersection # 在train中出現過\n",
        "  return repeat\n",
        "\n",
        "\n",
        "def get_plot(data, name:str):\n",
        "  all_teams, TeamStructure = get_all_teams(data)\n",
        "  cnt_teams = TeamStructure.values() # dict_values()\n",
        "  cnt_teams = np.array([list(cnt_teams)])\n",
        "  all_players, PlayerStructure = get_all_players(data)\n",
        "  cnt_players = PlayerStructure.values() # dict_values()\n",
        "  cnt_players = np.array([list(cnt_players)])\n",
        "\n",
        "\n",
        "  title = f'structure of teams({name})'\n",
        "  fig = plt.figure()\n",
        "  plt.hist(cnt_teams[0])\n",
        "  # plt.title(title, fontsize =15)\n",
        "  plt.xlabel('repeats', fontsize =15)\n",
        "  plt.ylabel('freq', fontsize =15)\n",
        "  # fig.set_size_inches(439/96,318/96)\n",
        "  fig.savefig(title+'.png', dpi=200,bbox_inches=\"tight\")\n",
        "  fig.show()\n",
        "\n",
        "  title = f'structure of players({name})'\n",
        "  fig = plt.figure()\n",
        "  plt.hist(cnt_players[0])\n",
        "  # plt.title(title, fontsize =15)\n",
        "  plt.xlabel('repeats', fontsize =15)\n",
        "  plt.ylabel('freq', fontsize =15)\n",
        "  # fig.set_size_inches(439/96,318/96)\n",
        "  fig.savefig(title+'.png', dpi=200,bbox_inches=\"tight\")\n",
        "  fig.show()"
      ],
      "metadata": {
        "id": "5TkwFXxmoBg2"
      },
      "execution_count": null,
      "outputs": []
    },
    {
      "cell_type": "code",
      "source": [
        "tennis_tr_players, tennis_tr_PlayerStructure = get_all_players(tennis_tr)\n",
        "tennis_tr_teams, tennis_tr_TeamStructure = get_all_teams(tennis_tr)\n",
        "volley_tr_players, volley_tr_PlayerStructure = get_all_players(volley_tr)\n",
        "volley_tr_teams, volley_tr_TeamStructure = get_all_teams(volley_tr)"
      ],
      "metadata": {
        "id": "2Plvjsc1kxyF"
      },
      "execution_count": null,
      "outputs": []
    },
    {
      "cell_type": "markdown",
      "source": [
        "# analysis of structure for val"
      ],
      "metadata": {
        "id": "o-1szsd6wDTM"
      }
    },
    {
      "cell_type": "code",
      "source": [
        "tennis_val_players, tennis_val_PlayerStructure = get_all_players(tennis_val)\n",
        "tennis_val_teams, tennis_val_TeamStructure = get_all_teams(tennis_val)\n",
        "volley_val_players, volley_val_PlayerStructure = get_all_players(volley_val)\n",
        "volley_val_teams, volley_val_TeamStructure = get_all_teams(volley_val)"
      ],
      "metadata": {
        "id": "kO0NojkTuJuB"
      },
      "execution_count": null,
      "outputs": []
    },
    {
      "cell_type": "markdown",
      "source": [
        "# structure summary"
      ],
      "metadata": {
        "id": "5ekeXNBnOzDi"
      }
    },
    {
      "cell_type": "markdown",
      "source": [
        "## plot"
      ],
      "metadata": {
        "id": "XW87NmldO82K"
      }
    },
    {
      "cell_type": "code",
      "source": [
        "get_plot(volley_tr,'volley_tr')"
      ],
      "metadata": {
        "id": "FoH8mh_3J5-T",
        "colab": {
          "base_uri": "https://localhost:8080/",
          "height": 552
        },
        "outputId": "23970aa1-7e80-40ab-925a-62d8c12df309"
      },
      "execution_count": null,
      "outputs": [
        {
          "output_type": "display_data",
          "data": {
            "text/plain": [
              "<Figure size 432x288 with 1 Axes>"
            ],
            "image/png": "[encoded data removed]"
          },
          "metadata": {
            "needs_background": "light"
          }
        },
        {
          "output_type": "display_data",
          "data": {
            "text/plain": [
              "<Figure size 432x288 with 1 Axes>"
            ],
            "image/png": "[encoded data removed]"
          },
          "metadata": {
            "needs_background": "light"
          }
        }
      ]
    },
    {
      "cell_type": "code",
      "source": [
        "get_plot(tennis_tr,'tennis_tr')"
      ],
      "metadata": {
        "id": "OHVrQLtSIpwV",
        "colab": {
          "base_uri": "https://localhost:8080/",
          "height": 552
        },
        "outputId": "53485233-259c-406a-9be6-a1fae6738aa4"
      },
      "execution_count": null,
      "outputs": [
        {
          "output_type": "display_data",
          "data": {
            "text/plain": [
              "<Figure size 432x288 with 1 Axes>"
            ],
            "image/png": "[encoded data removed]"
          },
          "metadata": {
            "needs_background": "light"
          }
        },
        {
          "output_type": "display_data",
          "data": {
            "text/plain": [
              "<Figure size 432x288 with 1 Axes>"
            ],
            "image/png": "[encoded data removed]"
          },
          "metadata": {
            "needs_background": "light"
          }
        }
      ]
    },
    {
      "cell_type": "code",
      "source": [
        "get_plot(volley_val,'volley_val')"
      ],
      "metadata": {
        "id": "I2fQUnBjKBRb",
        "colab": {
          "base_uri": "https://localhost:8080/",
          "height": 551
        },
        "outputId": "fcaad245-8430-40e7-bc49-c262b78577c4"
      },
      "execution_count": null,
      "outputs": [
        {
          "output_type": "display_data",
          "data": {
            "text/plain": [
              "<Figure size 432x288 with 1 Axes>"
            ],
            "image/png": "[encoded data removed]"
          },
          "metadata": {
            "needs_background": "light"
          }
        },
        {
          "output_type": "display_data",
          "data": {
            "text/plain": [
              "<Figure size 432x288 with 1 Axes>"
            ],
            "image/png": "[encoded data removed]"
          },
          "metadata": {
            "needs_background": "light"
          }
        }
      ]
    },
    {
      "cell_type": "code",
      "source": [
        "get_plot(tennis_val,'tennis_val')"
      ],
      "metadata": {
        "colab": {
          "base_uri": "https://localhost:8080/",
          "height": 551
        },
        "id": "yyCP4a86KELX",
        "outputId": "444a4de3-9e1f-4a15-f709-24c236f6cfa9"
      },
      "execution_count": null,
      "outputs": [
        {
          "output_type": "display_data",
          "data": {
            "text/plain": [
              "<Figure size 432x288 with 1 Axes>"
            ],
            "image/png": "[encoded data removed]"
          },
          "metadata": {
            "needs_background": "light"
          }
        },
        {
          "output_type": "display_data",
          "data": {
            "text/plain": [
              "<Figure size 432x288 with 1 Axes>"
            ],
            "image/png": "[encoded data removed]"
          },
          "metadata": {
            "needs_background": "light"
          }
        }
      ]
    },
    {
      "cell_type": "markdown",
      "source": [
        "## info"
      ],
      "metadata": {
        "id": "RUX9eUR3O7Ot"
      }
    },
    {
      "cell_type": "code",
      "source": [
        "# player's debut is in val\n",
        "def find_players_never(data_tr, data_val):\n",
        "  _, PlayerStructure_tr = get_all_players(data_tr)\n",
        "  _, PlayerStructure_val = get_all_players(data_val)\n",
        "  never = set(PlayerStructure_val) -  set(PlayerStructure_tr)\n",
        "  return never"
      ],
      "metadata": {
        "id": "DFtXLAwRQ56u"
      },
      "execution_count": null,
      "outputs": []
    },
    {
      "cell_type": "code",
      "source": [
        "get_teams_info(volley_tr, 1)"
      ],
      "metadata": {
        "colab": {
          "base_uri": "https://localhost:8080/"
        },
        "id": "RI0nZocO0ZYc",
        "outputId": "804ee22b-14e5-4125-b27a-20b5f8c5a14f"
      },
      "execution_count": null,
      "outputs": [
        {
          "output_type": "stream",
          "name": "stdout",
          "text": [
            "#(repeat): 709 \t #(games): 9998 \t #(combinations): 896 \t ratio: 0.7913\n",
            "共9998場比賽中，其中總共有896組隊伍，而這些隊伍出場只有1次以內的隊伍共有187組\n"
          ]
        }
      ]
    },
    {
      "cell_type": "code",
      "source": [
        "get_teams_info(volley_val, 1)"
      ],
      "metadata": {
        "colab": {
          "base_uri": "https://localhost:8080/"
        },
        "outputId": "60506c38-3bad-43ef-b03d-0116585b9295",
        "id": "0iyaJ16cOj_-"
      },
      "execution_count": null,
      "outputs": [
        {
          "output_type": "stream",
          "name": "stdout",
          "text": [
            "#(repeat): 170 \t #(games): 1598 \t #(combinations): 220 \t ratio: 0.7727\n",
            "共1598場比賽中，其中總共有220組隊伍，而這些隊伍出場只有1次以內的隊伍共有50組\n"
          ]
        }
      ]
    },
    {
      "cell_type": "code",
      "source": [
        "volley_repeat = find_repeat(volley_tr,volley_val,1)\n",
        "len(volley_repeat)"
      ],
      "metadata": {
        "colab": {
          "base_uri": "https://localhost:8080/"
        },
        "id": "ImpzFO1aOwcM",
        "outputId": "0f9d67b5-470b-4b24-ff63-28799ad7a3ca"
      },
      "execution_count": null,
      "outputs": [
        {
          "output_type": "execute_result",
          "data": {
            "text/plain": [
              "33"
            ]
          },
          "metadata": {},
          "execution_count": 31
        }
      ]
    },
    {
      "cell_type": "code",
      "source": [
        "get_teams_info(tennis_tr, 1)"
      ],
      "metadata": {
        "id": "hkNPk6ouq1d5",
        "colab": {
          "base_uri": "https://localhost:8080/"
        },
        "outputId": "e09e301d-8d9d-49ed-8049-d8aada39d82d"
      },
      "execution_count": null,
      "outputs": [
        {
          "output_type": "stream",
          "name": "stdout",
          "text": [
            "#(repeat): 2137 \t #(games): 9859 \t #(combinations): 3790 \t ratio: 0.5639\n",
            "共9859場比賽中，其中總共有3790組隊伍，而這些隊伍出場只有1次以內的隊伍共有1653組\n"
          ]
        }
      ]
    },
    {
      "cell_type": "code",
      "source": [
        "get_teams_info(tennis_val, 1)"
      ],
      "metadata": {
        "colab": {
          "base_uri": "https://localhost:8080/"
        },
        "outputId": "9f9a38ab-9022-446a-f71d-0d8dfa6612d4",
        "id": "7ngXyY8hOkAK"
      },
      "execution_count": null,
      "outputs": [
        {
          "output_type": "stream",
          "name": "stdout",
          "text": [
            "#(repeat): 632 \t #(games): 2571 \t #(combinations): 1126 \t ratio: 0.5613\n",
            "共2571場比賽中，其中總共有1126組隊伍，而這些隊伍出場只有1次以內的隊伍共有494組\n"
          ]
        }
      ]
    },
    {
      "cell_type": "code",
      "source": [
        "tennis_repeat = find_repeat(tennis_tr,tennis_val,1)\n",
        "len(tennis_repeat)"
      ],
      "metadata": {
        "colab": {
          "base_uri": "https://localhost:8080/"
        },
        "id": "m4YA4T5j85--",
        "outputId": "8e3d6bc1-a464-4078-fcf6-120b2249ea44"
      },
      "execution_count": null,
      "outputs": [
        {
          "output_type": "execute_result",
          "data": {
            "text/plain": [
              "293"
            ]
          },
          "metadata": {},
          "execution_count": 34
        }
      ]
    },
    {
      "cell_type": "code",
      "source": [
        ""
      ],
      "metadata": {
        "id": "iInmXlLr7HdN"
      },
      "execution_count": null,
      "outputs": []
    },
    {
      "cell_type": "code",
      "source": [
        ""
      ],
      "metadata": {
        "id": "CNG6bo4B9TGe"
      },
      "execution_count": null,
      "outputs": []
    },
    {
      "cell_type": "code",
      "source": [
        "# tennis_tr_TeamStructure['103184, 103185'] # 557\n",
        "# tennis_tr_PlayerStructure['103185'] # 564"
      ],
      "metadata": {
        "colab": {
          "base_uri": "https://localhost:8080/"
        },
        "id": "8BI-C6ZQ3Me4",
        "outputId": "d8d2b85c-f606-4029-db13-7350a17a5015"
      },
      "execution_count": null,
      "outputs": [
        {
          "output_type": "execute_result",
          "data": {
            "text/plain": [
              "557"
            ]
          },
          "metadata": {},
          "execution_count": 238
        }
      ]
    },
    {
      "cell_type": "markdown",
      "source": [
        "# algorithm 2 (conservative)"
      ],
      "metadata": {
        "id": "pSjP-NmW0mrT"
      }
    },
    {
      "cell_type": "code",
      "source": [
        "?np.log"
      ],
      "metadata": {
        "id": "HNVXAyf_1k8Y"
      },
      "execution_count": null,
      "outputs": []
    },
    {
      "cell_type": "code",
      "source": [
        "b = np.log(10)/400\n",
        "b*(60**2)"
      ],
      "metadata": {
        "colab": {
          "base_uri": "https://localhost:8080/"
        },
        "id": "_vMIj1tp1edc",
        "outputId": "13e3036d-f4c0-4a6d-83b4-a0c9ebdf2dbd"
      },
      "execution_count": null,
      "outputs": [
        {
          "output_type": "execute_result",
          "data": {
            "text/plain": [
              "20.723265836946414"
            ]
          },
          "metadata": {},
          "execution_count": 6
        }
      ]
    },
    {
      "cell_type": "code",
      "source": [
        "b*60**2"
      ],
      "metadata": {
        "id": "xKMmn0ry2FXq",
        "outputId": "dd634e26-5569-48bb-8c7f-be8e869c8dc4",
        "colab": {
          "base_uri": "https://localhost:8080/"
        }
      },
      "execution_count": null,
      "outputs": [
        {
          "output_type": "execute_result",
          "data": {
            "text/plain": [
              "20.723265836946414"
            ]
          },
          "metadata": {},
          "execution_count": 7
        }
      ]
    },
    {
      "cell_type": "code",
      "source": [
        "os.chdir(date)"
      ],
      "metadata": {
        "id": "-itu70WfNPuS"
      },
      "execution_count": null,
      "outputs": []
    },
    {
      "cell_type": "code",
      "source": [
        "def sigmoid(cur_mu_w, cur_mu_l):\n",
        "  b = np.log(10)/400 \n",
        "  x = b*(cur_mu_w-cur_mu_l)\n",
        "  return 1/(1+np.exp(-x))"
      ],
      "metadata": {
        "id": "vVxGGCAR-3KT"
      },
      "execution_count": null,
      "outputs": []
    },
    {
      "cell_type": "code",
      "source": [
        ""
      ],
      "metadata": {
        "id": "hbC2vPtI10-0"
      },
      "execution_count": null,
      "outputs": []
    },
    {
      "cell_type": "code",
      "source": [
        "def algorithm2_conservative(data ,start_sig,\n",
        "                            start_mean = 1500,update_var=True,\n",
        "                            file_name = None, mode = 'Train', L_div=1,prior_ratings=None):\n",
        "  winners, losers = data.iloc[:,:data.shape[1]//2], data.iloc[:,data.shape[1]//2:]\n",
        "  if file_name==None: file_name = 'algorithm2(conserative)_'+ mode + ('_both.txt' if update_var else '_only.txt')\n",
        "  if mode.lower() =='train': \n",
        "    prior_ratings = defaultdict(lambda: (start_mean, start_sig**2)) \n",
        "  elif mode.lower() not in ['test','train']: \n",
        "    print(f'WARNING: Ur input of mode is {mode} and the current mode is \"Train\" ')\n",
        "\n",
        "  with open(file_name,'w') as f:\n",
        "    str2 = 'game, current_winner1, current_winner2, current_loser1, current_loser2, winner_mean, loser_mean, phat'\n",
        "    f.write(str2+'\\n')\n",
        "    player_double = list(zip(winners['winner1_name'],winners['winner2_name'],losers['loser1_name'],losers['loser2_name']))      \n",
        "    count, tie, total, total_discrepancy = 0,0,0,0\n",
        "    b = np.log(10)/400\n",
        "    for game in np.arange(winners.shape[0]):\n",
        "        current_players = player_double[game]\n",
        "        team_i = str(set(current_players[:2]))\n",
        "        team_j = str(set(current_players[2:4]))\n",
        "\n",
        "        for team in [team_i,team_j]:\n",
        "          prior_ratings[team] if team not in prior_ratings else None\n",
        "\n",
        "        # collect prior rating in player_rating        \n",
        "        new_rating = prior_ratings.copy()\n",
        "\n",
        "        # calculate team meam & variance\n",
        "        winner_mean,winner_var = new_rating[team_i]\n",
        "        loser_mean,loser_var = new_rating[team_j]\n",
        "\n",
        "        # compare and count the correct prediction\n",
        "        if winner_mean > loser_mean:\n",
        "          count +=1\n",
        "        if winner_mean == loser_mean:\n",
        "          tie +=1\n",
        "        total +=1\n",
        "\n",
        "        # calculate p_iq ,p_qi   \n",
        "        p_iq = sigmoid(winner_mean, loser_mean)\n",
        "        p_qi = 1-p_iq\n",
        "        # calculate C\n",
        "        C = 1/(1+b*b* p_iq * p_qi*(winner_var + loser_var))\n",
        "        # define s 比賽結果\n",
        "        winner_s, loser_s = 1, 0\n",
        "        # Ki\n",
        "        K_i = winner_var*b*C*(winner_s-p_iq)\n",
        "        K_q = loser_var*b*C*(loser_s-p_qi)\n",
        "        # Li\n",
        "        L_i = b**2*p_iq*p_qi*winner_var*C / L_div\n",
        "        L_q = b**2*p_iq*p_qi*loser_var*C / L_div\n",
        "        # sum discrepancy\n",
        "        discrepancy = -np.log(p_iq)\n",
        "        total_discrepancy += discrepancy\n",
        "        # update winner\n",
        "        new_rating[team_i] = (winner_mean + K_i,\n",
        "                                          winner_var*(1-L_i) if update_var else winner_var )\n",
        "        \n",
        "        # update loser\n",
        "        new_rating[team_j] = (loser_mean + K_q,\n",
        "                                          loser_var*(1-L_q) if update_var else loser_var )\n",
        "        # save record\n",
        "        str2 ='%2d, %s, %s, %s, %s, %4.3f, %4.3f, %.4f\\n'%(game+1,\n",
        "                                                    current_players[0], current_players[1],\n",
        "                                                    current_players[2],current_players[3],\n",
        "                                                    winner_mean + K_i,  loser_mean + K_q, p_iq)\n",
        "        f.write(str2) # save\n",
        "\n",
        "        # update prior rating\n",
        "        prior_ratings = new_rating\n",
        "    f.close()\n",
        "    error = total-count-tie\n",
        "    misclassified_rate = error/total\n",
        "    return prior_ratings, misclassified_rate, (total,count,tie), total_discrepancy # 總個數(n) - (預測正確 (a) + ties (t)) = error (e)"
      ],
      "metadata": {
        "id": "UCr_3uZ80pAW"
      },
      "execution_count": null,
      "outputs": []
    },
    {
      "cell_type": "markdown",
      "source": [
        "# algorithm 2 "
      ],
      "metadata": {
        "id": "j4TaNOv5hltc"
      }
    },
    {
      "cell_type": "code",
      "source": [
        "def algorithm2(data , start_sig,\n",
        "               start_mean = 1500,update_var=True,\n",
        "               file_name = None, mode = 'Train', L_div=1,prior_ratings=None):\n",
        "    winners, losers = data.iloc[:,:data.shape[1]//2], data.iloc[:,data.shape[1]//2:]\n",
        "    if file_name==None: file_name = 'algorithm2_'+ mode + ('_both.txt' if update_var else '_only.txt')\n",
        "    if mode.lower() =='train':\n",
        "      prior_ratings = defaultdict(lambda: (start_mean, start_sig**2)) \n",
        "    elif mode.lower() not in ['test','train']:\n",
        "      print(f'WARNING: Ur input of mode is {mode} and the current mode is \"Test\" ')\n",
        "\n",
        "    with open(file_name,'w') as f:\n",
        "      str2 = 'game, current_winner1, current_winner2, current_loser1, current_loser2, winner_mean, loser_mean, phat'\n",
        "      f.write(str2+'\\n')\n",
        "      player_double = list(zip(winners['winner1_name'],winners['winner2_name'],losers['loser1_name'],losers['loser2_name']))\n",
        "      \n",
        "      count, tie, total, total_discrepancy = 0,0,0,0\n",
        "      b = np.log(10)/400\n",
        "      for game in np.arange(winners.shape[0]):\n",
        "        current_players = player_double[game]\n",
        "        current_winner1, current_winner2 = current_players[0],current_players[1]\n",
        "        current_loser1, current_loser2 = current_players[2],current_players[3]\n",
        "\n",
        "        # collect prior rating in player_rating        \n",
        "        new_rating = prior_ratings.copy()\n",
        "\n",
        "        # each player mean & variance\n",
        "        winner1_mean,winner1_var = new_rating[current_winner1]\n",
        "        winner2_mean,winner2_var = new_rating[current_winner2]\n",
        "        loser1_mean,loser1_var = new_rating[current_loser1]\n",
        "        loser2_mean,loser2_var = new_rating[current_loser2]\n",
        "        # calculate team meam & variance\n",
        "        winner_mean = sum([winner1_mean,winner2_mean])\n",
        "        winner_var = sum([winner1_var,winner2_var])\n",
        "        loser_mean = sum([loser1_mean,loser2_mean])\n",
        "        loser_var = sum([loser1_var,loser2_var])\n",
        "        # compare and count the correct prediction\n",
        "        if winner_mean > loser_mean:\n",
        "          count +=1\n",
        "        if winner_mean == loser_mean:\n",
        "          tie +=1\n",
        "        total +=1\n",
        "\n",
        "        # calculate p_iq ,p_qi   \n",
        "        p_iq = sigmoid(winner_mean, loser_mean)\n",
        "        p_qi = 1-p_iq\n",
        "        # calculate C\n",
        "        C = 1/(1+b*b* p_iq * p_qi*(winner_var + loser_var))\n",
        "        # define s 比賽結果\n",
        "        winner_s, loser_s = 1, 0\n",
        "        # Ki\n",
        "        K_i = winner_var*b*C*(winner_s-p_iq)\n",
        "        K_q = loser_var*b*C*(loser_s-p_qi)\n",
        "        # Li\n",
        "        L_i = b**2*p_iq*p_qi*winner_var*C/ L_div\n",
        "        L_q = b**2*p_iq*p_qi*loser_var*C/ L_div\n",
        "        # sum discrepancy\n",
        "        discrepancy = -np.log(p_iq)\n",
        "        total_discrepancy += discrepancy\n",
        "\n",
        "        # Indiviual skill update\n",
        "        # update winner\n",
        "        new_rating[current_winner1] = (winner1_mean + winner1_var/winner_var*K_i,\n",
        "                                          winner1_var*(1-winner1_var/winner_var*L_i) if update_var else winner1_var )\n",
        "        new_rating[current_winner2] = (winner2_mean + winner2_var/winner_var*K_i,\n",
        "                                          winner2_var*(1-winner2_var/winner_var*L_i) if update_var else winner2_var )\n",
        "        # update loser\n",
        "        new_rating[current_loser1] = (loser1_mean + loser1_var/loser_var*K_q,\n",
        "                                          loser1_var*(1-loser1_var/loser_var*L_q) if update_var else loser1_var )\n",
        "        new_rating[current_loser2] = (loser2_mean + loser2_var/loser_var*K_q,\n",
        "                                          loser2_var*(1-loser2_var/loser_var*L_q) if update_var else loser2_var )\n",
        "       # save record\n",
        "        str2 ='%2d, %s, %s, %s, %s, %4.3f, %4.3f, %.4f\\n'%(game+1,\n",
        "                                                    current_players[0], current_players[1],\n",
        "                                                    current_players[2],current_players[3],\n",
        "                                                    winner_mean + K_i,  loser_mean + K_q, p_iq)\n",
        "        f.write(str2) # save\n",
        "        # update prior rating\n",
        "        prior_ratings = new_rating\n",
        "    f.close()\n",
        "    error = total-count-tie\n",
        "    misclassified_rate = error/total\n",
        "    return prior_ratings, misclassified_rate, (total,count,tie), total_discrepancy \n",
        "    # 總個數(n) - (預測正確 (a) + ties (t)) = error (e)"
      ],
      "metadata": {
        "id": "rMpNpXYVhnFD"
      },
      "execution_count": null,
      "outputs": []
    },
    {
      "cell_type": "markdown",
      "source": [
        "# optimize"
      ],
      "metadata": {
        "id": "oe8vGTZ12QXO"
      }
    },
    {
      "cell_type": "code",
      "source": [
        "def optimize_parameter(data, alg='alg2c',\n",
        "    start_sig= 100,\n",
        "    verbose = True, tolerance = 1e-2):\n",
        "    \n",
        "    def fun_to_minimize(theta, alg=alg):\n",
        "        sig = abs(theta)\n",
        "        if alg.lower() =='alg2c':\n",
        "          _, _, _,discrepancy = algorithm2_conservative(data,start_sig = sig,**kwarg) \n",
        "        elif alg.lower() =='alg2':\n",
        "          _, _, _,discrepancy = algorithm2(data,start_sig = sig,**kwarg)\n",
        "\n",
        "        if verbose:\n",
        "            print(f'sig: {sig[0]} ; discrepancy: {discrepancy[0]}')\n",
        "        return discrepancy\n",
        "\n",
        "    opt_result = minimize(fun_to_minimize,\n",
        "                          np.array([start_sig],dtype='float'),\n",
        "                          method='Nelder-Mead',\n",
        "                          tol=tolerance,)\n",
        "    return {'start_sig':opt_result.x[0]} # parameter"
      ],
      "metadata": {
        "id": "cjLCOMM52Puk"
      },
      "execution_count": null,
      "outputs": []
    },
    {
      "cell_type": "code",
      "source": [
        "train_parameter = optimize_parameter(tennis_tr,start_sig=600)\n",
        "# 80"
      ],
      "metadata": {
        "colab": {
          "base_uri": "https://localhost:8080/",
          "height": 446
        },
        "id": "EUE6fdXsKgXx",
        "outputId": "c41a5899-a574-48cf-e519-3dd57b6f2793"
      },
      "execution_count": null,
      "outputs": [
        {
          "output_type": "stream",
          "name": "stdout",
          "text": [
            "sig: 600.0 ; discrepancy: 9691.439461386726\n",
            "sig: 630.0 ; discrepancy: 10177.734884160707\n",
            "sig: 570.0 ; discrepancy: 9243.051571023268\n",
            "sig: 540.0 ; discrepancy: 8830.889914085134\n",
            "sig: 480.0 ; discrepancy: 8130.833880966572\n",
            "sig: 420.0 ; discrepancy: 7583.012530485053\n",
            "sig: 300.0 ; discrepancy: 6882.884328482894\n"
          ]
        },
        {
          "output_type": "error",
          "ename": "KeyboardInterrupt",
          "evalue": "ignored",
          "traceback": [
            "\u001b[0;31m---------------------------------------------------------------------------\u001b[0m",
            "\u001b[0;31mKeyboardInterrupt\u001b[0m                         Traceback (most recent call last)",
            "\u001b[0;32m<ipython-input-20-9511389304fe>\u001b[0m in \u001b[0;36m<module>\u001b[0;34m()\u001b[0m\n\u001b[0;32m----> 1\u001b[0;31m \u001b[0mtrain_parameter\u001b[0m \u001b[0;34m=\u001b[0m \u001b[0moptimize_parameter\u001b[0m\u001b[0;34m(\u001b[0m\u001b[0mtennis_tr\u001b[0m\u001b[0;34m,\u001b[0m\u001b[0mstart_sig\u001b[0m\u001b[0;34m=\u001b[0m\u001b[0;36m600\u001b[0m\u001b[0;34m)\u001b[0m\u001b[0;34m\u001b[0m\u001b[0;34m\u001b[0m\u001b[0m\n\u001b[0m\u001b[1;32m      2\u001b[0m \u001b[0;31m# 80\u001b[0m\u001b[0;34m\u001b[0m\u001b[0;34m\u001b[0m\u001b[0;34m\u001b[0m\u001b[0m\n",
            "\u001b[0;32m<ipython-input-19-0885ebc7b639>\u001b[0m in \u001b[0;36moptimize_parameter\u001b[0;34m(data, alg, start_sig, verbose, tolerance)\u001b[0m\n\u001b[1;32m     17\u001b[0m                           \u001b[0mnp\u001b[0m\u001b[0;34m.\u001b[0m\u001b[0marray\u001b[0m\u001b[0;34m(\u001b[0m\u001b[0;34m[\u001b[0m\u001b[0mstart_sig\u001b[0m\u001b[0;34m]\u001b[0m\u001b[0;34m,\u001b[0m\u001b[0mdtype\u001b[0m\u001b[0;34m=\u001b[0m\u001b[0;34m'float'\u001b[0m\u001b[0;34m)\u001b[0m\u001b[0;34m,\u001b[0m\u001b[0;34m\u001b[0m\u001b[0;34m\u001b[0m\u001b[0m\n\u001b[1;32m     18\u001b[0m                           \u001b[0mmethod\u001b[0m\u001b[0;34m=\u001b[0m\u001b[0;34m'Nelder-Mead'\u001b[0m\u001b[0;34m,\u001b[0m\u001b[0;34m\u001b[0m\u001b[0;34m\u001b[0m\u001b[0m\n\u001b[0;32m---> 19\u001b[0;31m                           tol=tolerance,)\n\u001b[0m\u001b[1;32m     20\u001b[0m     \u001b[0;32mreturn\u001b[0m \u001b[0;34m{\u001b[0m\u001b[0;34m'start_sig'\u001b[0m\u001b[0;34m:\u001b[0m\u001b[0mopt_result\u001b[0m\u001b[0;34m.\u001b[0m\u001b[0mx\u001b[0m\u001b[0;34m[\u001b[0m\u001b[0;36m0\u001b[0m\u001b[0;34m]\u001b[0m\u001b[0;34m}\u001b[0m \u001b[0;31m# parameter\u001b[0m\u001b[0;34m\u001b[0m\u001b[0;34m\u001b[0m\u001b[0m\n",
            "\u001b[0;32m/usr/local/lib/python3.7/dist-packages/scipy/optimize/_minimize.py\u001b[0m in \u001b[0;36mminimize\u001b[0;34m(fun, x0, args, method, jac, hess, hessp, bounds, constraints, tol, callback, options)\u001b[0m\n\u001b[1;32m    596\u001b[0m \u001b[0;34m\u001b[0m\u001b[0m\n\u001b[1;32m    597\u001b[0m     \u001b[0;32mif\u001b[0m \u001b[0mmeth\u001b[0m \u001b[0;34m==\u001b[0m \u001b[0;34m'nelder-mead'\u001b[0m\u001b[0;34m:\u001b[0m\u001b[0;34m\u001b[0m\u001b[0;34m\u001b[0m\u001b[0m\n\u001b[0;32m--> 598\u001b[0;31m         \u001b[0;32mreturn\u001b[0m \u001b[0m_minimize_neldermead\u001b[0m\u001b[0;34m(\u001b[0m\u001b[0mfun\u001b[0m\u001b[0;34m,\u001b[0m \u001b[0mx0\u001b[0m\u001b[0;34m,\u001b[0m \u001b[0margs\u001b[0m\u001b[0;34m,\u001b[0m \u001b[0mcallback\u001b[0m\u001b[0;34m,\u001b[0m \u001b[0;34m**\u001b[0m\u001b[0moptions\u001b[0m\u001b[0;34m)\u001b[0m\u001b[0;34m\u001b[0m\u001b[0;34m\u001b[0m\u001b[0m\n\u001b[0m\u001b[1;32m    599\u001b[0m     \u001b[0;32melif\u001b[0m \u001b[0mmeth\u001b[0m \u001b[0;34m==\u001b[0m \u001b[0;34m'powell'\u001b[0m\u001b[0;34m:\u001b[0m\u001b[0;34m\u001b[0m\u001b[0;34m\u001b[0m\u001b[0m\n\u001b[1;32m    600\u001b[0m         \u001b[0;32mreturn\u001b[0m \u001b[0m_minimize_powell\u001b[0m\u001b[0;34m(\u001b[0m\u001b[0mfun\u001b[0m\u001b[0;34m,\u001b[0m \u001b[0mx0\u001b[0m\u001b[0;34m,\u001b[0m \u001b[0margs\u001b[0m\u001b[0;34m,\u001b[0m \u001b[0mcallback\u001b[0m\u001b[0;34m,\u001b[0m \u001b[0;34m**\u001b[0m\u001b[0moptions\u001b[0m\u001b[0;34m)\u001b[0m\u001b[0;34m\u001b[0m\u001b[0;34m\u001b[0m\u001b[0m\n",
            "\u001b[0;32m/usr/local/lib/python3.7/dist-packages/scipy/optimize/optimize.py\u001b[0m in \u001b[0;36m_minimize_neldermead\u001b[0;34m(func, x0, args, callback, maxiter, maxfev, disp, return_all, initial_simplex, xatol, fatol, adaptive, **unknown_options)\u001b[0m\n\u001b[1;32m    605\u001b[0m         \u001b[0;32mif\u001b[0m \u001b[0mfxr\u001b[0m \u001b[0;34m<\u001b[0m \u001b[0mfsim\u001b[0m\u001b[0;34m[\u001b[0m\u001b[0;36m0\u001b[0m\u001b[0;34m]\u001b[0m\u001b[0;34m:\u001b[0m\u001b[0;34m\u001b[0m\u001b[0;34m\u001b[0m\u001b[0m\n\u001b[1;32m    606\u001b[0m             \u001b[0mxe\u001b[0m \u001b[0;34m=\u001b[0m \u001b[0;34m(\u001b[0m\u001b[0;36m1\u001b[0m \u001b[0;34m+\u001b[0m \u001b[0mrho\u001b[0m \u001b[0;34m*\u001b[0m \u001b[0mchi\u001b[0m\u001b[0;34m)\u001b[0m \u001b[0;34m*\u001b[0m \u001b[0mxbar\u001b[0m \u001b[0;34m-\u001b[0m \u001b[0mrho\u001b[0m \u001b[0;34m*\u001b[0m \u001b[0mchi\u001b[0m \u001b[0;34m*\u001b[0m \u001b[0msim\u001b[0m\u001b[0;34m[\u001b[0m\u001b[0;34m-\u001b[0m\u001b[0;36m1\u001b[0m\u001b[0;34m]\u001b[0m\u001b[0;34m\u001b[0m\u001b[0;34m\u001b[0m\u001b[0m\n\u001b[0;32m--> 607\u001b[0;31m             \u001b[0mfxe\u001b[0m \u001b[0;34m=\u001b[0m \u001b[0mfunc\u001b[0m\u001b[0;34m(\u001b[0m\u001b[0mxe\u001b[0m\u001b[0;34m)\u001b[0m\u001b[0;34m\u001b[0m\u001b[0;34m\u001b[0m\u001b[0m\n\u001b[0m\u001b[1;32m    608\u001b[0m \u001b[0;34m\u001b[0m\u001b[0m\n\u001b[1;32m    609\u001b[0m             \u001b[0;32mif\u001b[0m \u001b[0mfxe\u001b[0m \u001b[0;34m<\u001b[0m \u001b[0mfxr\u001b[0m\u001b[0;34m:\u001b[0m\u001b[0;34m\u001b[0m\u001b[0;34m\u001b[0m\u001b[0m\n",
            "\u001b[0;32m/usr/local/lib/python3.7/dist-packages/scipy/optimize/optimize.py\u001b[0m in \u001b[0;36mfunction_wrapper\u001b[0;34m(*wrapper_args)\u001b[0m\n\u001b[1;32m    325\u001b[0m     \u001b[0;32mdef\u001b[0m \u001b[0mfunction_wrapper\u001b[0m\u001b[0;34m(\u001b[0m\u001b[0;34m*\u001b[0m\u001b[0mwrapper_args\u001b[0m\u001b[0;34m)\u001b[0m\u001b[0;34m:\u001b[0m\u001b[0;34m\u001b[0m\u001b[0;34m\u001b[0m\u001b[0m\n\u001b[1;32m    326\u001b[0m         \u001b[0mncalls\u001b[0m\u001b[0;34m[\u001b[0m\u001b[0;36m0\u001b[0m\u001b[0;34m]\u001b[0m \u001b[0;34m+=\u001b[0m \u001b[0;36m1\u001b[0m\u001b[0;34m\u001b[0m\u001b[0;34m\u001b[0m\u001b[0m\n\u001b[0;32m--> 327\u001b[0;31m         \u001b[0;32mreturn\u001b[0m \u001b[0mfunction\u001b[0m\u001b[0;34m(\u001b[0m\u001b[0;34m*\u001b[0m\u001b[0;34m(\u001b[0m\u001b[0mwrapper_args\u001b[0m \u001b[0;34m+\u001b[0m \u001b[0margs\u001b[0m\u001b[0;34m)\u001b[0m\u001b[0;34m)\u001b[0m\u001b[0;34m\u001b[0m\u001b[0;34m\u001b[0m\u001b[0m\n\u001b[0m\u001b[1;32m    328\u001b[0m \u001b[0;34m\u001b[0m\u001b[0m\n\u001b[1;32m    329\u001b[0m     \u001b[0;32mreturn\u001b[0m \u001b[0mncalls\u001b[0m\u001b[0;34m,\u001b[0m \u001b[0mfunction_wrapper\u001b[0m\u001b[0;34m\u001b[0m\u001b[0;34m\u001b[0m\u001b[0m\n",
            "\u001b[0;32m<ipython-input-19-0885ebc7b639>\u001b[0m in \u001b[0;36mfun_to_minimize\u001b[0;34m(theta, alg)\u001b[0m\n\u001b[1;32m      6\u001b[0m         \u001b[0msig\u001b[0m \u001b[0;34m=\u001b[0m \u001b[0mabs\u001b[0m\u001b[0;34m(\u001b[0m\u001b[0mtheta\u001b[0m\u001b[0;34m)\u001b[0m\u001b[0;34m\u001b[0m\u001b[0;34m\u001b[0m\u001b[0m\n\u001b[1;32m      7\u001b[0m         \u001b[0;32mif\u001b[0m \u001b[0malg\u001b[0m\u001b[0;34m.\u001b[0m\u001b[0mlower\u001b[0m\u001b[0;34m(\u001b[0m\u001b[0;34m)\u001b[0m \u001b[0;34m==\u001b[0m\u001b[0;34m'alg2c'\u001b[0m\u001b[0;34m:\u001b[0m\u001b[0;34m\u001b[0m\u001b[0;34m\u001b[0m\u001b[0m\n\u001b[0;32m----> 8\u001b[0;31m           \u001b[0m_\u001b[0m\u001b[0;34m,\u001b[0m \u001b[0m_\u001b[0m\u001b[0;34m,\u001b[0m \u001b[0m_\u001b[0m\u001b[0;34m,\u001b[0m\u001b[0mdiscrepancy\u001b[0m \u001b[0;34m=\u001b[0m \u001b[0malgorithm2_conservative\u001b[0m\u001b[0;34m(\u001b[0m\u001b[0mdata\u001b[0m\u001b[0;34m,\u001b[0m\u001b[0mstart_sig\u001b[0m \u001b[0;34m=\u001b[0m \u001b[0msig\u001b[0m\u001b[0;34m,\u001b[0m\u001b[0;34m**\u001b[0m\u001b[0mkwarg\u001b[0m\u001b[0;34m)\u001b[0m\u001b[0;34m\u001b[0m\u001b[0;34m\u001b[0m\u001b[0m\n\u001b[0m\u001b[1;32m      9\u001b[0m         \u001b[0;32melif\u001b[0m \u001b[0malg\u001b[0m\u001b[0;34m.\u001b[0m\u001b[0mlower\u001b[0m\u001b[0;34m(\u001b[0m\u001b[0;34m)\u001b[0m \u001b[0;34m==\u001b[0m\u001b[0;34m'alg2'\u001b[0m\u001b[0;34m:\u001b[0m\u001b[0;34m\u001b[0m\u001b[0;34m\u001b[0m\u001b[0m\n\u001b[1;32m     10\u001b[0m           \u001b[0m_\u001b[0m\u001b[0;34m,\u001b[0m \u001b[0m_\u001b[0m\u001b[0;34m,\u001b[0m \u001b[0m_\u001b[0m\u001b[0;34m,\u001b[0m\u001b[0mdiscrepancy\u001b[0m \u001b[0;34m=\u001b[0m \u001b[0malgorithm2\u001b[0m\u001b[0;34m(\u001b[0m\u001b[0mdata\u001b[0m\u001b[0;34m,\u001b[0m\u001b[0mstart_sig\u001b[0m \u001b[0;34m=\u001b[0m \u001b[0msig\u001b[0m\u001b[0;34m,\u001b[0m\u001b[0;34m**\u001b[0m\u001b[0mkwarg\u001b[0m\u001b[0;34m)\u001b[0m\u001b[0;34m\u001b[0m\u001b[0;34m\u001b[0m\u001b[0m\n",
            "\u001b[0;32m<ipython-input-17-3e97ff4c2667>\u001b[0m in \u001b[0;36malgorithm2_conservative\u001b[0;34m(data, start_sig, start_mean, update_var, file_name, mode, L_div, prior_ratings)\u001b[0m\n\u001b[1;32m     12\u001b[0m     \u001b[0mstr2\u001b[0m \u001b[0;34m=\u001b[0m \u001b[0;34m'game, current_winner1, current_winner2, current_loser1, current_loser2, winner_mean, loser_mean, phat'\u001b[0m\u001b[0;34m\u001b[0m\u001b[0;34m\u001b[0m\u001b[0m\n\u001b[1;32m     13\u001b[0m     \u001b[0mf\u001b[0m\u001b[0;34m.\u001b[0m\u001b[0mwrite\u001b[0m\u001b[0;34m(\u001b[0m\u001b[0mstr2\u001b[0m\u001b[0;34m+\u001b[0m\u001b[0;34m'\\n'\u001b[0m\u001b[0;34m)\u001b[0m\u001b[0;34m\u001b[0m\u001b[0;34m\u001b[0m\u001b[0m\n\u001b[0;32m---> 14\u001b[0;31m     \u001b[0mplayer_double\u001b[0m \u001b[0;34m=\u001b[0m \u001b[0mlist\u001b[0m\u001b[0;34m(\u001b[0m\u001b[0mzip\u001b[0m\u001b[0;34m(\u001b[0m\u001b[0mwinners\u001b[0m\u001b[0;34m[\u001b[0m\u001b[0;34m'winner1_name'\u001b[0m\u001b[0;34m]\u001b[0m\u001b[0;34m,\u001b[0m\u001b[0mwinners\u001b[0m\u001b[0;34m[\u001b[0m\u001b[0;34m'winner2_name'\u001b[0m\u001b[0;34m]\u001b[0m\u001b[0;34m,\u001b[0m\u001b[0mlosers\u001b[0m\u001b[0;34m[\u001b[0m\u001b[0;34m'loser1_name'\u001b[0m\u001b[0;34m]\u001b[0m\u001b[0;34m,\u001b[0m\u001b[0mlosers\u001b[0m\u001b[0;34m[\u001b[0m\u001b[0;34m'loser2_name'\u001b[0m\u001b[0;34m]\u001b[0m\u001b[0;34m)\u001b[0m\u001b[0;34m)\u001b[0m\u001b[0;34m\u001b[0m\u001b[0;34m\u001b[0m\u001b[0m\n\u001b[0m\u001b[1;32m     15\u001b[0m     \u001b[0mcount\u001b[0m\u001b[0;34m,\u001b[0m \u001b[0mtie\u001b[0m\u001b[0;34m,\u001b[0m \u001b[0mtotal\u001b[0m\u001b[0;34m,\u001b[0m \u001b[0mtotal_discrepancy\u001b[0m \u001b[0;34m=\u001b[0m \u001b[0;36m0\u001b[0m\u001b[0;34m,\u001b[0m\u001b[0;36m0\u001b[0m\u001b[0;34m,\u001b[0m\u001b[0;36m0\u001b[0m\u001b[0;34m,\u001b[0m\u001b[0;36m0\u001b[0m\u001b[0;34m\u001b[0m\u001b[0;34m\u001b[0m\u001b[0m\n\u001b[1;32m     16\u001b[0m     \u001b[0mb\u001b[0m \u001b[0;34m=\u001b[0m \u001b[0mnp\u001b[0m\u001b[0;34m.\u001b[0m\u001b[0mlog\u001b[0m\u001b[0;34m(\u001b[0m\u001b[0;36m10\u001b[0m\u001b[0;34m)\u001b[0m\u001b[0;34m/\u001b[0m\u001b[0;36m400\u001b[0m\u001b[0;34m\u001b[0m\u001b[0;34m\u001b[0m\u001b[0m\n",
            "\u001b[0;32m/usr/local/lib/python3.7/dist-packages/pandas/core/arrays/masked.py\u001b[0m in \u001b[0;36m__iter__\u001b[0;34m(self)\u001b[0m\n\u001b[1;32m    201\u001b[0m                 \u001b[0;32myield\u001b[0m \u001b[0mself\u001b[0m\u001b[0;34m.\u001b[0m\u001b[0mdtype\u001b[0m\u001b[0;34m.\u001b[0m\u001b[0mna_value\u001b[0m\u001b[0;34m\u001b[0m\u001b[0;34m\u001b[0m\u001b[0m\n\u001b[1;32m    202\u001b[0m             \u001b[0;32melse\u001b[0m\u001b[0;34m:\u001b[0m\u001b[0;34m\u001b[0m\u001b[0;34m\u001b[0m\u001b[0m\n\u001b[0;32m--> 203\u001b[0;31m                 \u001b[0;32myield\u001b[0m \u001b[0mself\u001b[0m\u001b[0;34m.\u001b[0m\u001b[0m_data\u001b[0m\u001b[0;34m[\u001b[0m\u001b[0mi\u001b[0m\u001b[0;34m]\u001b[0m\u001b[0;34m\u001b[0m\u001b[0;34m\u001b[0m\u001b[0m\n\u001b[0m\u001b[1;32m    204\u001b[0m \u001b[0;34m\u001b[0m\u001b[0m\n\u001b[1;32m    205\u001b[0m     \u001b[0;32mdef\u001b[0m \u001b[0m__len__\u001b[0m\u001b[0;34m(\u001b[0m\u001b[0mself\u001b[0m\u001b[0;34m)\u001b[0m \u001b[0;34m->\u001b[0m \u001b[0mint\u001b[0m\u001b[0;34m:\u001b[0m\u001b[0;34m\u001b[0m\u001b[0;34m\u001b[0m\u001b[0m\n",
            "\u001b[0;31mKeyboardInterrupt\u001b[0m: "
          ]
        }
      ]
    },
    {
      "cell_type": "code",
      "source": [
        "# 150\n",
        "train_parameter = optimize_parameter(volley_tr,start_sig=600)"
      ],
      "metadata": {
        "id": "rT1CONJH5lio"
      },
      "execution_count": null,
      "outputs": []
    },
    {
      "cell_type": "markdown",
      "source": [
        "# train"
      ],
      "metadata": {
        "id": "WRU2N-Q9ESzk"
      }
    },
    {
      "cell_type": "code",
      "source": [
        "# kwarg['update_var']=True\n",
        "print(kwarg)\n",
        "print(start_sig)"
      ],
      "metadata": {
        "id": "bo4XxsWzNWMn"
      },
      "execution_count": null,
      "outputs": []
    },
    {
      "cell_type": "code",
      "source": [
        "# estimate2c, acc_c1,_,loss2c_tr = algorithm2_conservative(winners,losers,start_sig=start_sig,**kwarg)\n",
        "# _, acc2c,tie2c,loss2c_val = algorithm2_conservative(winners_val,losers_val,\n",
        "#                                              start_sig=start_sig,**kwarg,\n",
        "#                                              prior_ratings=estimate2c,mode='test')"
      ],
      "metadata": {
        "id": "jdXQXVPr0mKN"
      },
      "execution_count": null,
      "outputs": []
    },
    {
      "cell_type": "code",
      "source": [
        "# print(acc2c)\n",
        "# tmp1, acc_c1,_ = algorithm2(winners,losers,start_sig=start_sig,**kwarg)\n",
        "# _, acc2,tie2 = algorithm2(winners_val, losers_val,**kwarg,\n",
        "#                               start_sig = start_sig, mode = 'test', prior_ratings=tmp1)\n",
        "# print(acc2)"
      ],
      "metadata": {
        "id": "Pd_gWjSyx16w"
      },
      "execution_count": null,
      "outputs": []
    },
    {
      "cell_type": "markdown",
      "source": [
        "# zip all records"
      ],
      "metadata": {
        "id": "McgNSTJ6llxP"
      }
    },
    {
      "cell_type": "code",
      "source": [
        "# os.chdir('../')\n",
        "# !zip -r filename.zip Mar02"
      ],
      "metadata": {
        "id": "8-ulvhdgHom0",
        "colab": {
          "base_uri": "https://localhost:8080/"
        },
        "outputId": "005a9e31-fe7b-4dfc-9307-4246ff5e8851"
      },
      "execution_count": null,
      "outputs": [
        {
          "output_type": "stream",
          "name": "stdout",
          "text": [
            "  adding: Mar02/ (stored 0%)\n",
            "  adding: Mar02/structure of players(tennis_val).png (deflated 21%)\n",
            "  adding: Mar02/structure of teams(tennis_tr).png (deflated 23%)\n",
            "  adding: Mar02/structure of players(tennis_tr).png (deflated 22%)\n",
            "  adding: Mar02/structure of teams(tennis_val).png (deflated 23%)\n",
            "  adding: Mar02/structure of players(volley_tr).png (deflated 22%)\n",
            "  adding: Mar02/structure of players(volley_val).png (deflated 23%)\n",
            "  adding: Mar02/structure of teams(volley_val).png (deflated 21%)\n",
            "  adding: Mar02/.ipynb_checkpoints/ (stored 0%)\n",
            "  adding: Mar02/structure of teams(volley_tr).png (deflated 22%)\n"
          ]
        }
      ]
    },
    {
      "cell_type": "markdown",
      "source": [
        "# train and test for various sigma values, update only mean"
      ],
      "metadata": {
        "id": "PCcyaJZL0bBO"
      }
    },
    {
      "cell_type": "code",
      "source": [
        "file_name = 'errRate_alg2conserve'\n",
        "file_name +='_both.txt' if kwarg['update_var'] else '_only.txt'\n",
        "print(file_name)\n",
        "\n",
        "all_err2ctrain=[]\n",
        "all_err2c=[]\n",
        "all_num2c=[]\n",
        "\n",
        "with open(file_name, 'w', encoding=\"utf-8\") as f:\n",
        "  # f.write('update_var: %s \\n'%str(update_var))\n",
        "  f.write('%3s, %2s, %2s, %2s\\n'%('sig','errTrain','errTest',\"(n,a,t)\"))\n",
        "  for i in range(len(init_sig)):\n",
        "    estimate2c, err2ctrain,_ = algorithm2_conservative(winners,losers,start_sig=init_sig[i],**kwarg)\n",
        "    _, err2c,num2c = algorithm2_conservative(winners_val,losers_val, start_sig=init_sig[i],**kwarg,\n",
        "                                             prior_ratings=estimate2c,mode='test')\n",
        "    # print(acc_c1,acc_c2)\n",
        "    all_err2ctrain.append(err2ctrain)\n",
        "    all_err2c.append(err2c) \n",
        "    all_num2c.append(num2c) \n",
        "    # str_w = '%3d, %.4f, %3d'%(init_sig[i],acc2c,tie2c)\n",
        "    str_w = f'{init_sig[i]:3d}, {err2ctrain:.4f},{err2c:.4f},{num2c}'\n",
        "    f.write(str_w+\"\\n\") # save\n",
        "f.close()\n",
        "\n",
        "sigMin_idx_tr = all_err2ctrain.index(min(all_err2ctrain))\n",
        "sigMin_idx_te = all_err2c.index(min(all_err2c))\n",
        "print('sig with min error rate in train: %d'%(init_sig[sigMin_idx_tr]))\n",
        "print('sig with min error rate in test: %d'%(init_sig[sigMin_idx_te]))\n",
        "\n",
        "estimate2c, err2ctrain,_ = algorithm2_conservative(winners,losers,start_sig=init_sig[sigMin_idx_tr],**kwarg)\n",
        "_, err2c,num2c = algorithm2_conservative(winners_val,losers_val, start_sig=init_sig[sigMin_idx_tr],**kwarg,\n",
        "                                             prior_ratings=estimate2c,mode='test')\n",
        "\n",
        "plt.plot(init_sig,all_err2c)\n",
        "plt.axvline(init_sig[sigMin_idx_te],c='red')\n",
        "plt.xlabel('sigma value',fontsize=14)\n",
        "plt.ylabel('error rate',fontsize=14)\n",
        "# plt.title('algorithm2(conservative) for different sigma')\n",
        "# plt.axvline(init_sig[sigMin_idx2],c='red')\n",
        "title2 = 'error_alg2conserve'\n",
        "title2 += '_both.png' if kwarg['update_var'] else '_only.png'\n",
        "plt.savefig(title2)\n",
        "plt.show()"
      ],
      "metadata": {
        "colab": {
          "base_uri": "https://localhost:8080/"
        },
        "id": "Ov8DiLZBm0d5",
        "outputId": "491c5d9c-18b2-4bb9-a38f-3f48abac3d87"
      },
      "execution_count": null,
      "outputs": [
        {
          "output_type": "stream",
          "name": "stdout",
          "text": [
            "errRate_alg2conserve_only.txt\n",
            "sig with min error rate in train: 80\n",
            "sig with min error rate in test: 120\n"
          ]
        }
      ]
    },
    {
      "cell_type": "code",
      "source": [
        "file_name = 'errRate_alg2'\n",
        "file_name +='_both.txt' if kwarg['update_var'] else '_only.txt'\n",
        "print(file_name)\n",
        "\n",
        "all_err2train=[]\n",
        "all_err2=[]\n",
        "all_num2=[]\n",
        "\n",
        "with open(file_name, 'w') as f:\n",
        "  # f.write('update_var: %s \\n'%str(update_var))\n",
        "  f.write('%3s, %2s, %2s, %2s\\n'%('sig','errTrain','errTest',\"(n,a,t)\"))\n",
        "  for i in range(len(init_sig)):\n",
        "    estimate2, err2train,_ = algorithm2(winners,losers,start_sig=init_sig[i],**kwarg)\n",
        "    _, err2,num2 = algorithm2(winners_val,losers_val, start_sig=init_sig[i],**kwarg,\n",
        "                                             prior_ratings=estimate2,mode='test')\n",
        "    # print(acc_c1,acc_c2)\n",
        "    all_err2train.append(err2train)\n",
        "    all_err2.append(err2) \n",
        "    all_num2.append(num2) \n",
        "    # str_w = '%3d, %.4f, %3d'%(init_sig[i],acc2,tie2)\n",
        "    str_w = f'{init_sig[i]:3d}, {err2train:.4f},{err2:.4f},{num2}'\n",
        "    f.write(str_w+\"\\n\") # save\n",
        "f.close()\n",
        "\n",
        "sigMin_idx_tr = all_err2train.index(min(all_err2train))\n",
        "sigMin_idx_te = all_err2.index(min(all_err2))\n",
        "print('sig with min error rate in train: %d'%(init_sig[sigMin_idx_tr]))\n",
        "print('sig with min error rate in test: %d'%(init_sig[sigMin_idx_te]))\n",
        "\n",
        "estimate2, err2train,_ = algorithm2(winners,losers,start_sig=init_sig[sigMin_idx_tr],**kwarg)\n",
        "_, err2,num2 = algorithm2(winners_val,losers_val, start_sig=init_sig[sigMin_idx_tr],**kwarg,\n",
        "                                             prior_ratings=estimate2,mode='test')\n",
        "    \n",
        "\n",
        "plt.plot(init_sig,all_err2)\n",
        "plt.axvline(init_sig[sigMin_idx_te],c='red')\n",
        "plt.xlabel('sigma value',fontsize=14)\n",
        "plt.ylabel('error rate',fontsize=14)\n",
        "# plt.title('algorithm2 for different sigma')\n",
        "# plt.axvline(init_sig[sigMin_idx2],c='red')\n",
        "title2 = 'error_alg2'\n",
        "title2 += '_both.png' if kwarg['update_var'] else '_only.png'\n",
        "plt.savefig(title2)\n",
        "plt.show()"
      ],
      "metadata": {
        "colab": {
          "base_uri": "https://localhost:8080/",
          "height": 334
        },
        "id": "x_1lZ5TgfBwu",
        "outputId": "ef8ae831-58bb-476a-ae1b-cf11f00cf66a"
      },
      "execution_count": null,
      "outputs": [
        {
          "output_type": "stream",
          "name": "stdout",
          "text": [
            "errRate_alg2_only.txt\n",
            "sig with min error rate in train: 80\n",
            "sig with min error rate in test: 80\n"
          ]
        },
        {
          "output_type": "display_data",
          "data": {
            "text/plain": [
              "<Figure size 432x288 with 1 Axes>"
            ],
            "image/png": "[encoded data removed]"
          },
          "metadata": {
            "needs_background": "light"
          }
        }
      ]
    },
    {
      "cell_type": "code",
      "source": [
        "# df = pd.DataFrame({'sig':init_sig, 'err2':all_err2,'err2c':all_err2c})#,'acc5':all_acc5})\n",
        "# df\n",
        "# path = 'allACCcompare(both).csv' if kwarg['update_var'] else  'all_errorRate_compare(only).csv'\n",
        "# df.to_csv(path,index = False)"
      ],
      "metadata": {
        "id": "uTOssaBpgjWd"
      },
      "execution_count": null,
      "outputs": []
    },
    {
      "cell_type": "markdown",
      "source": [
        "# train and test for various sigma values, update both mean & var"
      ],
      "metadata": {
        "id": "BfKH7Wo-oSiA"
      }
    },
    {
      "cell_type": "code",
      "source": [
        "kwarg['update_var']=True\n",
        "print(kwarg)"
      ],
      "metadata": {
        "colab": {
          "base_uri": "https://localhost:8080/"
        },
        "id": "yDoXOxV_oVY4",
        "outputId": "04a14071-62c2-4925-839c-2f7cbbd9926f"
      },
      "execution_count": null,
      "outputs": [
        {
          "output_type": "stream",
          "name": "stdout",
          "text": [
            "{'start_mean': 1500, 'update_var': True, 'file_name': None, 'L_div': 1}\n"
          ]
        }
      ]
    },
    {
      "cell_type": "code",
      "source": [
        "file_name = 'errRate_alg2conserve'\n",
        "file_name +='_both.txt' if kwarg['update_var'] else '_only.txt'\n",
        "print(file_name)\n",
        "\n",
        "all_err2ctrainBoth=[]\n",
        "all_err2cBoth=[]\n",
        "all_num2cBoth=[]\n",
        "\n",
        "with open(file_name, 'w', encoding=\"utf-8\") as f:\n",
        "  f.write('%3s, %2s, %2s, %2s\\n'%('sig','errTrain','errTest',\"(n,a,t)\"))\n",
        "  for i in range(len(init_sig)):\n",
        "    estimate2c, err2ctrain,_ = algorithm2_conservative(winners,losers,start_sig=init_sig[i],**kwarg)\n",
        "    _, err2c,num2c = algorithm2_conservative(winners_val,losers_val, start_sig=init_sig[i],**kwarg,\n",
        "                                             prior_ratings=estimate2c,mode='test')\n",
        "    # print(acc_c1,acc_c2)\n",
        "    all_err2ctrainBoth.append(err2ctrain) \n",
        "    all_err2cBoth.append(err2c) \n",
        "    all_num2cBoth.append(num2c) \n",
        "    # str_w = '%3d, %.4f, %3d'%(init_sig[i],acc2c,tie2c)\n",
        "    str_w = f'{init_sig[i]:3d}, {err2ctrain:.4f},{err2c:.4f},{num2c}'\n",
        "    f.write(str_w+\"\\n\") # save\n",
        "f.close()\n",
        "\n",
        "sigMin_idx_tr = all_err2ctrainBoth.index(min(all_err2ctrainBoth))\n",
        "sigMin_idx_te = all_err2cBoth.index(min(all_err2cBoth))\n",
        "print('sig with min error rate in train: %d'%(init_sig[sigMin_idx_tr]))\n",
        "print('sig with min error rate in test: %d'%(init_sig[sigMin_idx_te]))\n",
        "\n",
        "algorithm2_conservative(winners,losers,start_sig=init_sig[sigMin_idx_tr],**kwarg)\n",
        "algorithm2_conservative(winners_val,losers_val, start_sig=init_sig[sigMin_idx_tr],**kwarg,\n",
        "                                             prior_ratings=estimate2c,mode='test')\n",
        "\n",
        "plt.plot(init_sig,all_err2cBoth)\n",
        "plt.axvline(init_sig[sigMin_idx_te],c='red')\n",
        "plt.xlabel('sigma value',fontsize=14)\n",
        "plt.ylabel('error rate',fontsize=14)\n",
        "# plt.title('algorithm2 for different sigma')\n",
        "# plt.axvline(init_sig[sigMin_idx2],c='red')\n",
        "title2 = 'error_alg2conserve'\n",
        "title2 += '_both.png' if kwarg['update_var'] else '_only.png'\n",
        "plt.savefig(title2)\n",
        "plt.show()"
      ],
      "metadata": {
        "colab": {
          "base_uri": "https://localhost:8080/",
          "height": 334
        },
        "id": "s-cxaPBEoVdq",
        "outputId": "2d67f0b8-e59c-47c2-c058-49bf0c14acdb"
      },
      "execution_count": null,
      "outputs": [
        {
          "output_type": "stream",
          "name": "stdout",
          "text": [
            "errRate_alg2conserve_both.txt\n",
            "sig with min error rate in train: 80\n",
            "sig with min error rate in test: 150\n"
          ]
        },
        {
          "output_type": "display_data",
          "data": {
            "text/plain": [
              "<Figure size 432x288 with 1 Axes>"
            ],
            "image/png": "[encoded data removed]"
          },
          "metadata": {
            "needs_background": "light"
          }
        }
      ]
    },
    {
      "cell_type": "code",
      "source": [
        "file_name = 'errRate_alg2'\n",
        "file_name +='_both.txt' if kwarg['update_var'] else '_only.txt'\n",
        "print(file_name)\n",
        "\n",
        "all_err2trainBoth=[]\n",
        "all_err2Both=[]\n",
        "all_num2Both=[]\n",
        "\n",
        "with open(file_name, 'w') as f:\n",
        "  f.write('%3s, %2s, %2s, %2s\\n'%('sig','errTrain','errTest',\"(n,a,t)\"))\n",
        "  for i in range(len(init_sig)):\n",
        "    estimate2, err2train,_ = algorithm2(winners,losers,start_sig=init_sig[i],**kwarg)\n",
        "    _, err2,num2 = algorithm2(winners_val,losers_val, start_sig=init_sig[i],**kwarg,\n",
        "                                             prior_ratings=estimate2,mode='test')\n",
        "    # print(acc_c1,acc_c2)\n",
        "    all_err2trainBoth.append(err2train) \n",
        "    all_err2Both.append(err2) \n",
        "    all_num2Both.append(num2) \n",
        "    # str_w = '%3d, %.4f, %3d'%(init_sig[i],acc2,tie2)\n",
        "    str_w = f'{init_sig[i]:3d}, {err2train:.4f},{err2:.4f},{num2}'\n",
        "    f.write(str_w+\"\\n\") # save\n",
        "f.close()\n",
        "\n",
        "sigMin_idx_tr = all_err2trainBoth.index(min(all_err2trainBoth))\n",
        "sigMin_idx_te = all_err2Both.index(min(all_err2Both))\n",
        "print('sig with min error rate in train: %d'%(init_sig[sigMin_idx_tr]))\n",
        "print('sig with min error rate in test: %d'%(init_sig[sigMin_idx_te]))\n",
        "\n",
        "algorithm2(winners,losers,start_sig=init_sig[sigMin_idx_tr],**kwarg)\n",
        "algorithm2(winners_val,losers_val, start_sig=init_sig[sigMin_idx_tr],**kwarg,\n",
        "                                             prior_ratings=estimate2,mode='test')\n",
        "\n",
        "plt.plot(init_sig,all_err2)\n",
        "plt.axvline(init_sig[sigMin_idx_te],c='red')\n",
        "plt.xlabel('sigma value',fontsize=14)\n",
        "plt.ylabel('error rate',fontsize=14)\n",
        "# plt.title('algorithm2 for different sigma')\n",
        "# plt.axvline(init_sig[sigMin_idx2],c='red')\n",
        "title2 = 'error_alg2'\n",
        "title2 += '_both.png' if kwarg['update_var'] else '_only.png'\n",
        "plt.savefig(title2)\n",
        "plt.show()"
      ],
      "metadata": {
        "colab": {
          "base_uri": "https://localhost:8080/",
          "height": 334
        },
        "id": "GwAlAmbVoczF",
        "outputId": "0bf7c55d-b3be-4230-8ff8-bd7a3a2a2468"
      },
      "execution_count": null,
      "outputs": [
        {
          "output_type": "stream",
          "name": "stdout",
          "text": [
            "errRate_alg2_both.txt\n",
            "sig with min error rate in train: 220\n",
            "sig with min error rate in test: 180\n"
          ]
        },
        {
          "output_type": "display_data",
          "data": {
            "text/plain": [
              "<Figure size 432x288 with 1 Axes>"
            ],
            "image/png": "[encoded data removed]"
          },
          "metadata": {
            "needs_background": "light"
          }
        }
      ]
    },
    {
      "cell_type": "markdown",
      "source": [
        "# plot the err for diff sig"
      ],
      "metadata": {
        "id": "ALhZ04rLhAQn"
      }
    },
    {
      "cell_type": "code",
      "source": [
        "plt.plot(init_sig,all_err2cBoth,'royalblue',label='algorithm2(conservative) update var')\n",
        "plt.plot(init_sig,all_err2c,'royalblue',ls='--',label='algorithm2(conservative) constant var')\n",
        "plt.plot(init_sig,all_err2Both,'orangered',label='algorithm2 update var')\n",
        "plt.plot(init_sig,all_err2,'orangered',ls='--',label='algorithm2 constant var')\n",
        "# plt.legend(bbox_to_anchor=(num1, num2), loc=num3, borderaxespad=num4)\n",
        "# plt.legend()\n",
        "plt.xlabel('sigma',fontsize=14)\n",
        "plt.ylabel('error rate',fontsize=14)\n",
        "fig = plt.gcf()\n",
        "fig.set_size_inches(10, 7)\n",
        "fig.savefig('errorRateVolley.png')\n",
        "plt.show()"
      ],
      "metadata": {
        "colab": {
          "base_uri": "https://localhost:8080/",
          "height": 446
        },
        "id": "IO5fZkFopMjW",
        "outputId": "7ca22daa-24b5-4722-cbc7-8ff9b2dfd883"
      },
      "execution_count": null,
      "outputs": [
        {
          "output_type": "display_data",
          "data": {
            "text/plain": [
              "<Figure size 720x504 with 1 Axes>"
            ],
            "image/png": "[encoded data removed]"
          },
          "metadata": {
            "needs_background": "light"
          }
        }
      ]
    }
  ]
}