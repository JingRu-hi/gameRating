{
  "nbformat": 4,
  "nbformat_minor": 0,
  "metadata": {
    "colab": {
      "name": "[tennis]calibration acc.ipynb",
      "provenance": [],
      "collapsed_sections": [],
      "toc_visible": true,
      "authorship_tag": "ABX9TyMmCXB2bSqR59cmT++awJxU",
      "include_colab_link": true
    },
    "kernelspec": {
      "name": "python3",
      "display_name": "Python 3"
    },
    "language_info": {
      "name": "python"
    }
  },
  "cells": [
    {
      "cell_type": "markdown",
      "metadata": {
        "id": "view-in-github",
        "colab_type": "text"
      },
      "source": [
        "<a href=\"https://colab.research.google.com/github/JingRu-hi/gameRating/blob/main/%5Btennis%5Dcalibration_acc.ipynb\" target=\"_parent\"><img src=\"https://colab.research.google.com/assets/colab-badge.svg\" alt=\"Open In Colab\"/></a>"
      ]
    },
    {
      "cell_type": "code",
      "execution_count": null,
      "metadata": {
        "id": "r2tkcQ7reSSW"
      },
      "outputs": [],
      "source": [
        "import numpy as np\n",
        "import pandas as pd\n",
        "from collections import defaultdict\n",
        "from sklearn.preprocessing import LabelEncoder\n",
        "import copy\n",
        "import matplotlib.pyplot as plt\n",
        "import os\n",
        "from scipy.stats import binom\n"
      ]
    },
    {
      "cell_type": "code",
      "source": [
        "date = 'Mar15/'\n",
        "try:\n",
        "  os.mkdir(date)\n",
        "except:\n",
        "  pass"
      ],
      "metadata": {
        "id": "KHHmwXtGbZMm"
      },
      "execution_count": null,
      "outputs": []
    },
    {
      "cell_type": "markdown",
      "source": [
        "# 1"
      ],
      "metadata": {
        "id": "zTBdzwlWSM9f"
      }
    },
    {
      "cell_type": "code",
      "source": [
        "!git clone https://github.com/JingRu-hi/gameRating.git\n",
        "# os.chdir('gameRating/records/')"
      ],
      "metadata": {
        "colab": {
          "base_uri": "https://localhost:8080/"
        },
        "id": "rpP-9_J4fEdu",
        "outputId": "7e72649f-453b-4536-b5ac-8e3ca169cf91"
      },
      "execution_count": null,
      "outputs": [
        {
          "output_type": "stream",
          "name": "stdout",
          "text": [
            "Cloning into 'gameRating'...\n",
            "remote: Enumerating objects: 89, done.\u001b[K\n",
            "remote: Counting objects: 100% (86/86), done.\u001b[K\n",
            "remote: Compressing objects: 100% (84/84), done.\u001b[K\n",
            "remote: Total 89 (delta 40), reused 0 (delta 0), pack-reused 3\u001b[K\n",
            "Unpacking objects: 100% (89/89), done.\n"
          ]
        }
      ]
    },
    {
      "cell_type": "code",
      "source": [
        "!ls"
      ],
      "metadata": {
        "colab": {
          "base_uri": "https://localhost:8080/"
        },
        "id": "ltkS4Dc1EV9y",
        "outputId": "e87cca74-5e6f-4c1c-9bda-025ad30b8aaf"
      },
      "execution_count": null,
      "outputs": [
        {
          "output_type": "stream",
          "name": "stdout",
          "text": [
            "gameRating  Mar15  sample_data\n"
          ]
        }
      ]
    },
    {
      "cell_type": "code",
      "source": [
        ""
      ],
      "metadata": {
        "id": "iDTIuRLHZ1fU"
      },
      "execution_count": null,
      "outputs": []
    },
    {
      "cell_type": "code",
      "source": [
        "path = 'gameRating/records/tennis/'\n",
        "df2b = pd.read_csv(path+'algorithm2_test_both.txt', delimiter = \", \")\n",
        "df2cb = pd.read_csv(path+'algorithm2(conserative)_test_both.txt', delimiter = \", \")\n",
        "df2o = pd.read_csv(path+'algorithm2_test_only.txt', delimiter = \", \")\n",
        "df2co = pd.read_csv(path+'algorithm2(conserative)_test_only.txt', delimiter = \", \")\n",
        "df2b.head()"
      ],
      "metadata": {
        "colab": {
          "base_uri": "https://localhost:8080/",
          "height": 258
        },
        "id": "UUZvbUTDeZlM",
        "outputId": "1ada25dc-3334-4e67-bf67-0ed1942a22c8"
      },
      "execution_count": null,
      "outputs": [
        {
          "output_type": "stream",
          "name": "stderr",
          "text": [
            "/usr/local/lib/python3.7/dist-packages/pandas/util/_decorators.py:311: ParserWarning: Falling back to the 'python' engine because the 'c' engine does not support regex separators (separators > 1 char and different from '\\s+' are interpreted as regex); you can avoid this warning by specifying engine='python'.\n",
            "  return func(*args, **kwargs)\n"
          ]
        },
        {
          "output_type": "execute_result",
          "data": {
            "text/plain": [
              "   game  current_winner1  current_winner2  current_loser1  current_loser2  \\\n",
              "0     1           105573           105188          105683          133430   \n",
              "1     2           105051           105357          104592          106000   \n",
              "2     3           106401           105591          105428          104693   \n",
              "3     4           105777           105992          103720          111442   \n",
              "4     5           105323           104677          104600          104802   \n",
              "\n",
              "   winner_mean  loser_mean    phat  \n",
              "0     3294.487    3005.869  0.8311  \n",
              "1     3051.198    2894.794  0.6746  \n",
              "2     3088.235    3176.671  0.3422  \n",
              "3     3084.779    3146.089  0.3773  \n",
              "4     3056.000    3124.557  0.3847  "
            ],
            "text/html": [
              "\n",
              "  <div id=\"df-2ee07fb8-4a85-4d85-a880-60d0222ee4e4\">\n",
              "    <div class=\"colab-df-container\">\n",
              "      <div>\n",
              "<style scoped>\n",
              "    .dataframe tbody tr th:only-of-type {\n",
              "        vertical-align: middle;\n",
              "    }\n",
              "\n",
              "    .dataframe tbody tr th {\n",
              "        vertical-align: top;\n",
              "    }\n",
              "\n",
              "    .dataframe thead th {\n",
              "        text-align: right;\n",
              "    }\n",
              "</style>\n",
              "<table border=\"1\" class=\"dataframe\">\n",
              "  <thead>\n",
              "    <tr style=\"text-align: right;\">\n",
              "      <th></th>\n",
              "      <th>game</th>\n",
              "      <th>current_winner1</th>\n",
              "      <th>current_winner2</th>\n",
              "      <th>current_loser1</th>\n",
              "      <th>current_loser2</th>\n",
              "      <th>winner_mean</th>\n",
              "      <th>loser_mean</th>\n",
              "      <th>phat</th>\n",
              "    </tr>\n",
              "  </thead>\n",
              "  <tbody>\n",
              "    <tr>\n",
              "      <th>0</th>\n",
              "      <td>1</td>\n",
              "      <td>105573</td>\n",
              "      <td>105188</td>\n",
              "      <td>105683</td>\n",
              "      <td>133430</td>\n",
              "      <td>3294.487</td>\n",
              "      <td>3005.869</td>\n",
              "      <td>0.8311</td>\n",
              "    </tr>\n",
              "    <tr>\n",
              "      <th>1</th>\n",
              "      <td>2</td>\n",
              "      <td>105051</td>\n",
              "      <td>105357</td>\n",
              "      <td>104592</td>\n",
              "      <td>106000</td>\n",
              "      <td>3051.198</td>\n",
              "      <td>2894.794</td>\n",
              "      <td>0.6746</td>\n",
              "    </tr>\n",
              "    <tr>\n",
              "      <th>2</th>\n",
              "      <td>3</td>\n",
              "      <td>106401</td>\n",
              "      <td>105591</td>\n",
              "      <td>105428</td>\n",
              "      <td>104693</td>\n",
              "      <td>3088.235</td>\n",
              "      <td>3176.671</td>\n",
              "      <td>0.3422</td>\n",
              "    </tr>\n",
              "    <tr>\n",
              "      <th>3</th>\n",
              "      <td>4</td>\n",
              "      <td>105777</td>\n",
              "      <td>105992</td>\n",
              "      <td>103720</td>\n",
              "      <td>111442</td>\n",
              "      <td>3084.779</td>\n",
              "      <td>3146.089</td>\n",
              "      <td>0.3773</td>\n",
              "    </tr>\n",
              "    <tr>\n",
              "      <th>4</th>\n",
              "      <td>5</td>\n",
              "      <td>105323</td>\n",
              "      <td>104677</td>\n",
              "      <td>104600</td>\n",
              "      <td>104802</td>\n",
              "      <td>3056.000</td>\n",
              "      <td>3124.557</td>\n",
              "      <td>0.3847</td>\n",
              "    </tr>\n",
              "  </tbody>\n",
              "</table>\n",
              "</div>\n",
              "      <button class=\"colab-df-convert\" onclick=\"convertToInteractive('df-2ee07fb8-4a85-4d85-a880-60d0222ee4e4')\"\n",
              "              title=\"Convert this dataframe to an interactive table.\"\n",
              "              style=\"display:none;\">\n",
              "        \n",
              "  <svg xmlns=\"http://www.w3.org/2000/svg\" height=\"24px\"viewBox=\"0 0 24 24\"\n",
              "       width=\"24px\">\n",
              "    <path d=\"M0 0h24v24H0V0z\" fill=\"none\"/>\n",
              "    <path d=\"M18.56 5.44l.94 2.06.94-2.06 2.06-.94-2.06-.94-.94-2.06-.94 2.06-2.06.94zm-11 1L8.5 8.5l.94-2.06 2.06-.94-2.06-.94L8.5 2.5l-.94 2.06-2.06.94zm10 10l.94 2.06.94-2.06 2.06-.94-2.06-.94-.94-2.06-.94 2.06-2.06.94z\"/><path d=\"M17.41 7.96l-1.37-1.37c-.4-.4-.92-.59-1.43-.59-.52 0-1.04.2-1.43.59L10.3 9.45l-7.72 7.72c-.78.78-.78 2.05 0 2.83L4 21.41c.39.39.9.59 1.41.59.51 0 1.02-.2 1.41-.59l7.78-7.78 2.81-2.81c.8-.78.8-2.07 0-2.86zM5.41 20L4 18.59l7.72-7.72 1.47 1.35L5.41 20z\"/>\n",
              "  </svg>\n",
              "      </button>\n",
              "      \n",
              "  <style>\n",
              "    .colab-df-container {\n",
              "      display:flex;\n",
              "      flex-wrap:wrap;\n",
              "      gap: 12px;\n",
              "    }\n",
              "\n",
              "    .colab-df-convert {\n",
              "      background-color: #E8F0FE;\n",
              "      border: none;\n",
              "      border-radius: 50%;\n",
              "      cursor: pointer;\n",
              "      display: none;\n",
              "      fill: #1967D2;\n",
              "      height: 32px;\n",
              "      padding: 0 0 0 0;\n",
              "      width: 32px;\n",
              "    }\n",
              "\n",
              "    .colab-df-convert:hover {\n",
              "      background-color: #E2EBFA;\n",
              "      box-shadow: 0px 1px 2px rgba(60, 64, 67, 0.3), 0px 1px 3px 1px rgba(60, 64, 67, 0.15);\n",
              "      fill: #174EA6;\n",
              "    }\n",
              "\n",
              "    [theme=dark] .colab-df-convert {\n",
              "      background-color: #3B4455;\n",
              "      fill: #D2E3FC;\n",
              "    }\n",
              "\n",
              "    [theme=dark] .colab-df-convert:hover {\n",
              "      background-color: #434B5C;\n",
              "      box-shadow: 0px 1px 3px 1px rgba(0, 0, 0, 0.15);\n",
              "      filter: drop-shadow(0px 1px 2px rgba(0, 0, 0, 0.3));\n",
              "      fill: #FFFFFF;\n",
              "    }\n",
              "  </style>\n",
              "\n",
              "      <script>\n",
              "        const buttonEl =\n",
              "          document.querySelector('#df-2ee07fb8-4a85-4d85-a880-60d0222ee4e4 button.colab-df-convert');\n",
              "        buttonEl.style.display =\n",
              "          google.colab.kernel.accessAllowed ? 'block' : 'none';\n",
              "\n",
              "        async function convertToInteractive(key) {\n",
              "          const element = document.querySelector('#df-2ee07fb8-4a85-4d85-a880-60d0222ee4e4');\n",
              "          const dataTable =\n",
              "            await google.colab.kernel.invokeFunction('convertToInteractive',\n",
              "                                                     [key], {});\n",
              "          if (!dataTable) return;\n",
              "\n",
              "          const docLinkHtml = 'Like what you see? Visit the ' +\n",
              "            '<a target=\"_blank\" href=https://colab.research.google.com/notebooks/data_table.ipynb>data table notebook</a>'\n",
              "            + ' to learn more about interactive tables.';\n",
              "          element.innerHTML = '';\n",
              "          dataTable['output_type'] = 'display_data';\n",
              "          await google.colab.output.renderOutput(dataTable, element);\n",
              "          const docLink = document.createElement('div');\n",
              "          docLink.innerHTML = docLinkHtml;\n",
              "          element.appendChild(docLink);\n",
              "        }\n",
              "      </script>\n",
              "    </div>\n",
              "  </div>\n",
              "  "
            ]
          },
          "metadata": {},
          "execution_count": 6
        }
      ]
    },
    {
      "cell_type": "code",
      "source": [
        "phat2b = np.array(df2b['phat'])\n",
        "phat2o = np.array(df2o['phat'])\n",
        "phat2co = np.array(df2co['phat'])\n",
        "phat2cb = np.array(df2cb['phat'])"
      ],
      "metadata": {
        "id": "h7d_4rS0hlvj"
      },
      "execution_count": null,
      "outputs": []
    },
    {
      "cell_type": "code",
      "source": [
        "plt.hist(phat2b)\n",
        "plt.axvline(x=.45,c='red')\n",
        "plt.axvline(x=.55,c='red')"
      ],
      "metadata": {
        "colab": {
          "base_uri": "https://localhost:8080/",
          "height": 282
        },
        "id": "6H4SR9mAGVke",
        "outputId": "eafa9efb-7ede-46a1-9600-3ae34dc8acd6"
      },
      "execution_count": null,
      "outputs": [
        {
          "output_type": "execute_result",
          "data": {
            "text/plain": [
              "<matplotlib.lines.Line2D at 0x7f4714159a10>"
            ]
          },
          "metadata": {},
          "execution_count": 8
        },
        {
          "output_type": "display_data",
          "data": {
            "text/plain": [
              "<Figure size 432x288 with 1 Axes>"
            ],
            "image/png": "[encoded data removed]"
          },
          "metadata": {
            "needs_background": "light"
          }
        }
      ]
    },
    {
      "cell_type": "code",
      "source": [
        ""
      ],
      "metadata": {
        "id": "oN729Y0gJfZp"
      },
      "execution_count": null,
      "outputs": []
    },
    {
      "cell_type": "code",
      "source": [
        "def edge(phat):\n",
        "  idx = (phat*100)%5==0\n",
        "  phat_in_interval = phat[idx]\n",
        "  return phat_in_interval"
      ],
      "metadata": {
        "id": "Kz36vPTWIwUk"
      },
      "execution_count": null,
      "outputs": []
    },
    {
      "cell_type": "code",
      "source": [
        "edge(phat2b)"
      ],
      "metadata": {
        "colab": {
          "base_uri": "https://localhost:8080/"
        },
        "id": "0JLIgfAVI_4C",
        "outputId": "0138e6fe-4240-4e44-eb11-49dc812a0f9c"
      },
      "execution_count": null,
      "outputs": [
        {
          "output_type": "execute_result",
          "data": {
            "text/plain": [
              "array([0.5 , 0.5 , 0.5 , 0.65])"
            ]
          },
          "metadata": {},
          "execution_count": 9
        }
      ]
    },
    {
      "cell_type": "code",
      "source": [
        "edge(phat2o)"
      ],
      "metadata": {
        "colab": {
          "base_uri": "https://localhost:8080/"
        },
        "id": "1UnBEqrLJLdm",
        "outputId": "7671d62f-28a2-4d3c-8cdc-33af34476bdc"
      },
      "execution_count": null,
      "outputs": [
        {
          "output_type": "execute_result",
          "data": {
            "text/plain": [
              "array([0.4 , 0.9 , 0.25, 0.85])"
            ]
          },
          "metadata": {},
          "execution_count": 10
        }
      ]
    },
    {
      "cell_type": "code",
      "source": [
        "edge(phat2cb)"
      ],
      "metadata": {
        "colab": {
          "base_uri": "https://localhost:8080/"
        },
        "id": "Hx6lWqyaJNA3",
        "outputId": "c0a19913-d824-4d7f-de11-bc1c432ca5c3"
      },
      "execution_count": null,
      "outputs": [
        {
          "output_type": "execute_result",
          "data": {
            "text/plain": [
              "array([0.5 , 0.5 , 0.5 , 0.5 , 0.5 , 0.5 , 0.5 , 0.5 , 0.5 , 0.5 , 0.5 ,\n",
              "       0.5 , 0.5 , 0.5 , 0.5 , 0.5 , 0.5 , 0.5 , 0.5 , 0.5 , 0.5 , 0.5 ,\n",
              "       0.5 , 0.5 , 0.4 , 0.5 , 0.5 , 0.4 , 0.5 , 0.5 , 0.5 , 0.5 , 0.5 ,\n",
              "       0.5 , 0.5 , 0.5 , 0.5 , 0.5 , 0.5 , 0.5 , 0.5 , 0.5 , 0.5 , 0.5 ,\n",
              "       0.5 , 0.5 , 0.5 , 0.5 , 0.5 , 0.5 , 0.5 , 0.5 , 0.5 , 0.5 , 0.5 ,\n",
              "       0.5 , 0.5 , 0.5 , 0.7 , 0.5 , 0.5 , 0.5 , 0.5 , 0.5 , 0.5 , 0.45,\n",
              "       0.5 , 0.5 , 0.5 , 0.5 , 0.5 , 0.5 , 0.5 , 0.5 , 0.5 , 0.5 , 0.5 ,\n",
              "       0.5 , 0.5 , 0.5 , 0.75, 0.5 , 0.5 , 0.5 , 0.5 , 0.5 , 0.5 , 0.5 ,\n",
              "       0.5 , 0.5 , 0.5 , 0.5 , 0.5 , 0.5 , 0.5 , 0.5 , 0.5 , 0.5 , 0.5 ,\n",
              "       0.65, 0.5 , 0.5 , 0.5 , 0.5 , 0.5 , 0.5 , 0.5 , 0.5 , 0.45, 0.5 ,\n",
              "       0.5 , 0.5 , 0.75, 0.5 , 0.5 , 0.5 , 0.5 , 0.5 , 0.5 , 0.5 , 0.5 ,\n",
              "       0.5 , 0.5 , 0.5 , 0.5 , 0.5 , 0.5 , 0.5 , 0.5 , 0.5 , 0.5 , 0.5 ,\n",
              "       0.5 , 0.5 , 0.5 , 0.5 , 0.5 , 0.5 , 0.5 , 0.5 , 0.5 , 0.5 , 0.5 ,\n",
              "       0.5 , 0.5 , 0.5 , 0.5 , 0.5 , 0.5 ])"
            ]
          },
          "metadata": {},
          "execution_count": 11
        }
      ]
    },
    {
      "cell_type": "code",
      "source": [
        "edge(phat2co)"
      ],
      "metadata": {
        "colab": {
          "base_uri": "https://localhost:8080/"
        },
        "id": "SJi3hqTAJPQU",
        "outputId": "807d8c29-8077-4bb5-a744-587e169329a5"
      },
      "execution_count": null,
      "outputs": [
        {
          "output_type": "execute_result",
          "data": {
            "text/plain": [
              "array([0.5 , 0.5 , 0.5 , 0.5 , 0.5 , 0.5 , 0.5 , 0.5 , 0.5 , 0.5 , 0.5 ,\n",
              "       0.5 , 0.5 , 0.5 , 0.5 , 0.5 , 0.5 , 0.5 , 0.5 , 0.5 , 0.5 , 0.5 ,\n",
              "       0.5 , 0.5 , 0.5 , 0.5 , 0.5 , 0.5 , 0.5 , 0.5 , 0.5 , 0.5 , 0.5 ,\n",
              "       0.5 , 0.5 , 0.5 , 0.5 , 0.5 , 0.5 , 0.5 , 0.5 , 0.5 , 0.5 , 0.5 ,\n",
              "       0.5 , 0.5 , 0.5 , 0.5 , 0.5 , 0.5 , 0.5 , 0.5 , 0.5 , 0.5 , 0.5 ,\n",
              "       0.5 , 0.5 , 0.5 , 0.5 , 0.5 , 0.5 , 0.5 , 0.5 , 0.65, 0.45, 0.5 ,\n",
              "       0.5 , 0.5 , 0.5 , 0.5 , 0.5 , 0.5 , 0.5 , 0.5 , 0.5 , 0.5 , 0.5 ,\n",
              "       0.5 , 0.5 , 0.5 , 0.5 , 0.5 , 0.5 , 0.5 , 0.5 , 0.5 , 0.5 , 0.5 ,\n",
              "       0.5 , 0.5 , 0.5 , 0.5 , 0.5 , 0.5 , 0.5 , 0.5 , 0.5 , 0.5 , 0.5 ,\n",
              "       0.5 , 0.5 , 0.5 , 0.5 , 0.5 , 0.5 , 0.5 , 0.5 , 0.5 , 0.5 , 0.5 ,\n",
              "       0.5 , 0.5 , 0.5 , 0.5 , 0.5 , 0.5 , 0.5 , 0.5 , 0.5 , 0.5 , 0.6 ,\n",
              "       0.5 , 0.5 , 0.5 , 0.5 , 0.5 , 0.5 , 0.5 , 0.5 , 0.5 , 0.5 , 0.5 ,\n",
              "       0.5 , 0.5 , 0.5 , 0.5 , 0.5 , 0.5 , 0.5 , 0.5 , 0.5 , 0.5 , 0.5 ,\n",
              "       0.5 , 0.5 , 0.5 ])"
            ]
          },
          "metadata": {},
          "execution_count": 12
        }
      ]
    },
    {
      "cell_type": "markdown",
      "source": [
        "# function"
      ],
      "metadata": {
        "id": "snwhgqxoJdQd"
      }
    },
    {
      "cell_type": "code",
      "source": [
        "def get_group_phat0(phat, a,b):\n",
        "  idx = ((phat>=a)&(phat<b)) | ((phat<=round(1-a,2))&(phat>round(1-b,2)))  \n",
        "  phat_in_interval = phat[idx]\n",
        "  return phat_in_interval"
      ],
      "metadata": {
        "id": "kuYDZVITPYG0"
      },
      "execution_count": null,
      "outputs": []
    },
    {
      "cell_type": "code",
      "source": [
        "def get_group_phat1(phat, a,b):\n",
        "  idx = ((phat>=a)&(phat<b)) | ((phat<=round(1-a,2))&(phat>round(1-b,2)))  # JingRu\n",
        "  idx = ((phat>=a)&(phat<=b)) | ((phat<=round(1-a,2))&(phat>=round(1-b,2))) # Prof\n",
        "  phat_in_interval = phat[idx]\n",
        "  return phat_in_interval"
      ],
      "metadata": {
        "id": "VhxGl9GHE03e"
      },
      "execution_count": null,
      "outputs": []
    },
    {
      "cell_type": "code",
      "source": [
        "def get_group_phat(phat, a,b):\n",
        "  if b==1: idx = ((phat>=a)&(phat<=b)) | ((phat<=round(1-a,2))&(phat>=round(1-b,2)))  \n",
        "  else:    idx = ((phat>=a)&(phat< b)) | ((phat<=round(1-a,2))&(phat> round(1-b,2)))  \n",
        "  phat_in_interval = phat[idx]\n",
        "  return phat_in_interval"
      ],
      "metadata": {
        "id": "0qml0a80N93V"
      },
      "execution_count": null,
      "outputs": []
    },
    {
      "cell_type": "code",
      "source": [
        "def get_acc(phat):\n",
        "  n = len(phat)\n",
        "  correct = sum(phat>.5)\n",
        "  return correct, n\n",
        "def get_CI(phat,a,b):\n",
        "  phat = get_group_phat(phat,a,b)\n",
        "  correct, n = get_acc(phat)\n",
        "  if n==0: return (a+b)/2,(a+b)/2,0\n",
        "  mean_acc = correct/n\n",
        "  s_acc = np.sqrt((mean_acc*(1-mean_acc)/n))\n",
        "  return mean_acc-1.96*s_acc, mean_acc+1.96*s_acc, n"
      ],
      "metadata": {
        "id": "iAIQVje6VWAq"
      },
      "execution_count": null,
      "outputs": []
    },
    {
      "cell_type": "code",
      "source": [
        "plt.hist(get_group_phat(phat2b,.55,.6))"
      ],
      "metadata": {
        "id": "x7PkWpO7kS7L",
        "colab": {
          "base_uri": "https://localhost:8080/",
          "height": 333
        },
        "outputId": "f861fbe0-4a50-4f9d-a0d7-b8ee5c4a0d3d"
      },
      "execution_count": null,
      "outputs": [
        {
          "output_type": "execute_result",
          "data": {
            "text/plain": [
              "(array([ 75.,  62.,  44.,   0.,   0.,   0.,   0.,  54.,  96., 104.]),\n",
              " array([0.4001 , 0.42007, 0.44004, 0.46001, 0.47998, 0.49995, 0.51992,\n",
              "        0.53989, 0.55986, 0.57983, 0.5998 ]),\n",
              " <a list of 10 Patch objects>)"
            ]
          },
          "metadata": {},
          "execution_count": 10
        },
        {
          "output_type": "display_data",
          "data": {
            "text/plain": [
              "<Figure size 432x288 with 1 Axes>"
            ],
            "image/png": "[encoded data removed]"
          },
          "metadata": {
            "needs_background": "light"
          }
        }
      ]
    },
    {
      "cell_type": "code",
      "source": [
        "# plt.hist(tmp)\n",
        "# plt.axvline(x=.45,c='red')\n",
        "# plt.axvline(x=.55,c='red')"
      ],
      "metadata": {
        "id": "f94SXncNYoF9"
      },
      "execution_count": null,
      "outputs": []
    },
    {
      "cell_type": "code",
      "source": [
        "# plt.hist(get_group_phat(tmp,.55,.6))"
      ],
      "metadata": {
        "id": "223h7fXSYpj9"
      },
      "execution_count": null,
      "outputs": []
    },
    {
      "cell_type": "code",
      "source": [
        ""
      ],
      "metadata": {
        "id": "d8aTMf2ASK5g"
      },
      "execution_count": null,
      "outputs": []
    },
    {
      "cell_type": "code",
      "source": [
        "get_CI(phat2b,.55,.6)"
      ],
      "metadata": {
        "colab": {
          "base_uri": "https://localhost:8080/"
        },
        "id": "avCjM_7oaIzV",
        "outputId": "cfd0ce28-89e2-4a88-c7df-0ca1dcc9c4cc"
      },
      "execution_count": null,
      "outputs": [
        {
          "output_type": "execute_result",
          "data": {
            "text/plain": [
              "(0.5375870027708212, 0.6302290891832019, 435)"
            ]
          },
          "metadata": {},
          "execution_count": 14
        }
      ]
    },
    {
      "cell_type": "code",
      "source": [
        "os.chdir('Mar15')\n",
        "!pwd"
      ],
      "metadata": {
        "id": "kj230iACaxkL"
      },
      "execution_count": null,
      "outputs": []
    },
    {
      "cell_type": "markdown",
      "source": [
        "# load data and plot"
      ],
      "metadata": {
        "id": "4gWk00YEQV6d"
      }
    },
    {
      "cell_type": "code",
      "source": [
        "from scipy.optimize import minimize\n",
        "def calculate_ratings(data,start_mean = 1500, start_var = 20**2):\n",
        "    for i in games:\n",
        "        # 計算rating\n",
        "            ...\n",
        "            ...\n",
        "            ...\n",
        "        # sum discrepancy\n",
        "        discrepancy = -np.log(p_iq)\n",
        "        total_discrepancy += discrepancy\n",
        "    return prior_ratings, misclassified_rate, (total,count,tie),total_discrepancy  # 多return total_discrepancy\n",
        "# 記得原本函數只有return 3個結果，所以後面的code記得要讓他多一個物件可以return\n",
        "## ex. 原本：a, b, c = algorithm2(...) 改成-> a, b, c, d = algorithm2(...)\n",
        "\n",
        "def optimize_parameter(winners,losers, alg='alg2c',\n",
        "    start_sig= 100,\n",
        "    verbose = True, tolerance = 1e-2):\n",
        "    def fun_to_minimize(theta, alg=alg):\n",
        "        sig = abs(theta)\n",
        "        if alg.lower() =='alg2c':\n",
        "          _, _, _,discrepancy = algorithm2_conservative(winners,losers,start_sig = sig,**kwarg) \n",
        "        elif alg.lower() =='alg2':\n",
        "          _, _, _,discrepancy = algorithm2(winners,losers,start_sig = sig,**kwarg)\n",
        "\n",
        "        if verbose:\n",
        "            print('sig: {} ; discrepancy: {}'.format(sig[0],discrepancy[0]))\n",
        "        return discrepancy\n",
        "    # cons = ({'type': 'ineq', 'fun': lambda x:  abs(x)})\n",
        "    opt_result = minimize(fun_to_minimize,\n",
        "                          np.array([start_sig],dtype='float'),\n",
        "                          method='Nelder-Mead',\n",
        "                          tol=tolerance,)\n",
        "    return {'start_sig':opt_result.x[0]} # parameter\n"
      ],
      "metadata": {
        "id": "PBhvf8AKJ1t5"
      },
      "execution_count": null,
      "outputs": []
    },
    {
      "cell_type": "code",
      "source": [
        "path = 'gameRating/records/tennis/'\n",
        "os.listdir(path)"
      ],
      "metadata": {
        "colab": {
          "base_uri": "https://localhost:8080/"
        },
        "id": "n36om5kwQZhl",
        "outputId": "264c121f-7a98-442c-8143-b72253baaf85"
      },
      "execution_count": null,
      "outputs": [
        {
          "output_type": "execute_result",
          "data": {
            "text/plain": [
              "['algorithm2_test_only.txt',\n",
              " 'algorithm2(conserative)_Train_both.txt',\n",
              " 'algorithm2_Train_only.txt',\n",
              " 'algorithm2(conserative)_test_only.txt',\n",
              " 'algorithm2_test_both.txt',\n",
              " 'algorithm2(conserative)_test_both.txt',\n",
              " 'algorithm2(conserative)_Train_only.txt',\n",
              " 'algorithm2_Train_both.txt',\n",
              " 'readme.md']"
            ]
          },
          "metadata": {},
          "execution_count": 17
        }
      ]
    },
    {
      "cell_type": "code",
      "source": [
        "string = ['algorithm2_test_only.txt', 'algorithm2(conserative)_test_only.txt', 'algorithm2_test_both.txt']\n",
        "\n",
        "for s in string:\n",
        "    filename = path+s\n",
        "    print(filename)\n",
        "    filenamepng = 'cali_'+s+'.png'\n",
        "    filenamecsv = 'cali_'+s+'.csv'\n",
        "    data = pd.read_csv(filename, sep=', ', engine='python')\n",
        "    p = np.array(data['phat'])\n",
        "\n",
        "    fig, ax = plt.subplots(figsize=(15,10))\n",
        "    ax.plot([.5,1],[.5,1]) # x = y\n",
        "    a=.5\n",
        "    number = []\n",
        "    acc = []\n",
        "\n",
        "    for _ in range(10): \n",
        "        b = round(a+.05, 2)  \n",
        "        mid = (a+b)/2\n",
        "        L, U, n = get_CI(p,a,b)\n",
        "        number.append(n)\n",
        "        acc.append((L+U)/2)\n",
        "        ax.scatter(mid,(L+U)/2, s = 50, color= \"black\")\n",
        "        ax.vlines(mid, L, U,color= \"red\") # line segment of CI\n",
        "        a = b\n",
        "\n",
        "    plt.savefig(filenamepng)\n",
        "    plt.show()\n",
        "\n",
        "    calib = pd.DataFrame({'number':number, 'acc':acc})\n",
        "    calib.to_csv(filenamecsv,index=False)"
      ],
      "metadata": {
        "colab": {
          "base_uri": "https://localhost:8080/",
          "height": 1000
        },
        "id": "5Ao1wgxtQYJo",
        "outputId": "0afcc986-fcde-4414-84bb-887dd3db6373"
      },
      "execution_count": null,
      "outputs": [
        {
          "output_type": "stream",
          "name": "stdout",
          "text": [
            "gameRating/records/tennis/algorithm2_test_only.txt\n"
          ]
        },
        {
          "output_type": "display_data",
          "data": {
            "text/plain": [
              "<Figure size 1080x720 with 1 Axes>"
            ],
            "image/png": "[encoded data removed]"
          },
          "metadata": {
            "needs_background": "light"
          }
        },
        {
          "output_type": "stream",
          "name": "stdout",
          "text": [
            "gameRating/records/tennis/algorithm2(conserative)_test_only.txt\n"
          ]
        },
        {
          "output_type": "display_data",
          "data": {
            "text/plain": [
              "<Figure size 1080x720 with 1 Axes>"
            ],
            "image/png": "[encoded data removed]"
          },
          "metadata": {
            "needs_background": "light"
          }
        },
        {
          "output_type": "stream",
          "name": "stdout",
          "text": [
            "gameRating/records/tennis/algorithm2_test_both.txt\n"
          ]
        },
        {
          "output_type": "display_data",
          "data": {
            "text/plain": [
              "<Figure size 1080x720 with 1 Axes>"
            ],
            "image/png": "[encoded data removed]"
          },
          "metadata": {
            "needs_background": "light"
          }
        }
      ]
    },
    {
      "cell_type": "markdown",
      "source": [
        "# end"
      ],
      "metadata": {
        "id": "s7Aney_jRp02"
      }
    },
    {
      "cell_type": "code",
      "source": [
        "# os.chdir('../')\n",
        "# !zip -r filename.zip Mar15"
      ],
      "metadata": {
        "colab": {
          "base_uri": "https://localhost:8080/"
        },
        "id": "jaRn7HQ0atbU",
        "outputId": "3d410cd2-316c-4001-9387-f1de164172f1"
      },
      "execution_count": null,
      "outputs": [
        {
          "output_type": "stream",
          "name": "stdout",
          "text": [
            "  adding: Mar15/ (stored 0%)\n",
            "  adding: Mar15/calibration_algorithm2_only.png (deflated 18%)\n",
            "  adding: Mar15/calibration_algorithm3_only.csv (deflated 40%)\n",
            "  adding: Mar15/calibration_algorithm2_both.png (deflated 19%)\n",
            "  adding: Mar15/calibration_algorithm3_both.png (deflated 18%)\n",
            "  adding: Mar15/calibration_algorithm2_only.csv (deflated 46%)\n",
            "  adding: Mar15/calibration_algorithm3_both.csv (deflated 37%)\n",
            "  adding: Mar15/calibration_algorithm2_both.csv (deflated 41%)\n",
            "  adding: Mar15/calibration_algorithm3_only.png (deflated 19%)\n"
          ]
        }
      ]
    },
    {
      "cell_type": "code",
      "source": [
        ""
      ],
      "metadata": {
        "id": "AW9VSogNUC31"
      },
      "execution_count": null,
      "outputs": []
    },
    {
      "cell_type": "markdown",
      "source": [
        "# graph"
      ],
      "metadata": {
        "id": "C7Ssii-iayRO"
      }
    },
    {
      "cell_type": "code",
      "source": [
        ""
      ],
      "metadata": {
        "colab": {
          "base_uri": "https://localhost:8080/"
        },
        "id": "O8H4-DTTbd-H",
        "outputId": "1a8d9ed6-073d-43d9-b710-1e3ea78de7a9"
      },
      "execution_count": null,
      "outputs": [
        {
          "output_type": "stream",
          "name": "stdout",
          "text": [
            "/content/Mar15\n"
          ]
        }
      ]
    },
    {
      "cell_type": "code",
      "source": [
        "# 2 \n",
        "# both\n",
        "fig, ax = plt.subplots(figsize=(15,10))\n",
        "\n",
        "ax.plot([.5,1],[.5,1]) # x = y\n",
        "a=.5\n",
        "size_2b = []\n",
        "acc_hat_2b = []\n",
        "for _ in range(10):\n",
        "  b = round(a+.05, 2)\n",
        "  mid = (a+b)/2\n",
        "  L, U, n = get_CI(phat2b,a,b)\n",
        "  size_2b.append(n)\n",
        "  acc_hat_2b.append((L+U)/2)\n",
        "  # if n!=0:\n",
        "  ax.scatter(mid,(L+U)/2, s = 50, color= \"black\")\n",
        "  ax.vlines(mid, L, U,color= \"red\") # line segment of CI\n",
        "  a = b\n",
        "plt.savefig('calibration_algorithm2_both.png')\n",
        "plt.show()\n",
        "\n",
        "callib_2b = pd.DataFrame({'size_2b':size_2b, 'acc_hat_2b':acc_hat_2b})\n",
        "callib_2b.to_csv('calibration_algorithm2_both.csv',index=False)\n",
        "callib_2b"
      ],
      "metadata": {
        "colab": {
          "base_uri": "https://localhost:8080/",
          "height": 934
        },
        "id": "Q7yXFfj5Zjb7",
        "outputId": "81d936a3-dbdc-4207-ee50-95f580f961fe"
      },
      "execution_count": null,
      "outputs": [
        {
          "output_type": "display_data",
          "data": {
            "text/plain": [
              "<Figure size 1080x720 with 1 Axes>"
            ],
            "image/png": "[encoded data removed]"
          },
          "metadata": {
            "needs_background": "light"
          }
        },
        {
          "output_type": "execute_result",
          "data": {
            "text/plain": [
              "   size_2b  acc_hat_2b\n",
              "0      512    0.492188\n",
              "1      435    0.583908\n",
              "2      428    0.607477\n",
              "3      360    0.647222\n",
              "4      336    0.687500\n",
              "5      244    0.750000\n",
              "6      160    0.768750\n",
              "7       75    0.786667\n",
              "8       21    0.952381\n",
              "9        0    0.975000"
            ],
            "text/html": [
              "\n",
              "  <div id=\"df-cd30582d-ea99-48a6-963a-109e3fac6d64\">\n",
              "    <div class=\"colab-df-container\">\n",
              "      <div>\n",
              "<style scoped>\n",
              "    .dataframe tbody tr th:only-of-type {\n",
              "        vertical-align: middle;\n",
              "    }\n",
              "\n",
              "    .dataframe tbody tr th {\n",
              "        vertical-align: top;\n",
              "    }\n",
              "\n",
              "    .dataframe thead th {\n",
              "        text-align: right;\n",
              "    }\n",
              "</style>\n",
              "<table border=\"1\" class=\"dataframe\">\n",
              "  <thead>\n",
              "    <tr style=\"text-align: right;\">\n",
              "      <th></th>\n",
              "      <th>size_2b</th>\n",
              "      <th>acc_hat_2b</th>\n",
              "    </tr>\n",
              "  </thead>\n",
              "  <tbody>\n",
              "    <tr>\n",
              "      <th>0</th>\n",
              "      <td>512</td>\n",
              "      <td>0.492188</td>\n",
              "    </tr>\n",
              "    <tr>\n",
              "      <th>1</th>\n",
              "      <td>435</td>\n",
              "      <td>0.583908</td>\n",
              "    </tr>\n",
              "    <tr>\n",
              "      <th>2</th>\n",
              "      <td>428</td>\n",
              "      <td>0.607477</td>\n",
              "    </tr>\n",
              "    <tr>\n",
              "      <th>3</th>\n",
              "      <td>360</td>\n",
              "      <td>0.647222</td>\n",
              "    </tr>\n",
              "    <tr>\n",
              "      <th>4</th>\n",
              "      <td>336</td>\n",
              "      <td>0.687500</td>\n",
              "    </tr>\n",
              "    <tr>\n",
              "      <th>5</th>\n",
              "      <td>244</td>\n",
              "      <td>0.750000</td>\n",
              "    </tr>\n",
              "    <tr>\n",
              "      <th>6</th>\n",
              "      <td>160</td>\n",
              "      <td>0.768750</td>\n",
              "    </tr>\n",
              "    <tr>\n",
              "      <th>7</th>\n",
              "      <td>75</td>\n",
              "      <td>0.786667</td>\n",
              "    </tr>\n",
              "    <tr>\n",
              "      <th>8</th>\n",
              "      <td>21</td>\n",
              "      <td>0.952381</td>\n",
              "    </tr>\n",
              "    <tr>\n",
              "      <th>9</th>\n",
              "      <td>0</td>\n",
              "      <td>0.975000</td>\n",
              "    </tr>\n",
              "  </tbody>\n",
              "</table>\n",
              "</div>\n",
              "      <button class=\"colab-df-convert\" onclick=\"convertToInteractive('df-cd30582d-ea99-48a6-963a-109e3fac6d64')\"\n",
              "              title=\"Convert this dataframe to an interactive table.\"\n",
              "              style=\"display:none;\">\n",
              "        \n",
              "  <svg xmlns=\"http://www.w3.org/2000/svg\" height=\"24px\"viewBox=\"0 0 24 24\"\n",
              "       width=\"24px\">\n",
              "    <path d=\"M0 0h24v24H0V0z\" fill=\"none\"/>\n",
              "    <path d=\"M18.56 5.44l.94 2.06.94-2.06 2.06-.94-2.06-.94-.94-2.06-.94 2.06-2.06.94zm-11 1L8.5 8.5l.94-2.06 2.06-.94-2.06-.94L8.5 2.5l-.94 2.06-2.06.94zm10 10l.94 2.06.94-2.06 2.06-.94-2.06-.94-.94-2.06-.94 2.06-2.06.94z\"/><path d=\"M17.41 7.96l-1.37-1.37c-.4-.4-.92-.59-1.43-.59-.52 0-1.04.2-1.43.59L10.3 9.45l-7.72 7.72c-.78.78-.78 2.05 0 2.83L4 21.41c.39.39.9.59 1.41.59.51 0 1.02-.2 1.41-.59l7.78-7.78 2.81-2.81c.8-.78.8-2.07 0-2.86zM5.41 20L4 18.59l7.72-7.72 1.47 1.35L5.41 20z\"/>\n",
              "  </svg>\n",
              "      </button>\n",
              "      \n",
              "  <style>\n",
              "    .colab-df-container {\n",
              "      display:flex;\n",
              "      flex-wrap:wrap;\n",
              "      gap: 12px;\n",
              "    }\n",
              "\n",
              "    .colab-df-convert {\n",
              "      background-color: #E8F0FE;\n",
              "      border: none;\n",
              "      border-radius: 50%;\n",
              "      cursor: pointer;\n",
              "      display: none;\n",
              "      fill: #1967D2;\n",
              "      height: 32px;\n",
              "      padding: 0 0 0 0;\n",
              "      width: 32px;\n",
              "    }\n",
              "\n",
              "    .colab-df-convert:hover {\n",
              "      background-color: #E2EBFA;\n",
              "      box-shadow: 0px 1px 2px rgba(60, 64, 67, 0.3), 0px 1px 3px 1px rgba(60, 64, 67, 0.15);\n",
              "      fill: #174EA6;\n",
              "    }\n",
              "\n",
              "    [theme=dark] .colab-df-convert {\n",
              "      background-color: #3B4455;\n",
              "      fill: #D2E3FC;\n",
              "    }\n",
              "\n",
              "    [theme=dark] .colab-df-convert:hover {\n",
              "      background-color: #434B5C;\n",
              "      box-shadow: 0px 1px 3px 1px rgba(0, 0, 0, 0.15);\n",
              "      filter: drop-shadow(0px 1px 2px rgba(0, 0, 0, 0.3));\n",
              "      fill: #FFFFFF;\n",
              "    }\n",
              "  </style>\n",
              "\n",
              "      <script>\n",
              "        const buttonEl =\n",
              "          document.querySelector('#df-cd30582d-ea99-48a6-963a-109e3fac6d64 button.colab-df-convert');\n",
              "        buttonEl.style.display =\n",
              "          google.colab.kernel.accessAllowed ? 'block' : 'none';\n",
              "\n",
              "        async function convertToInteractive(key) {\n",
              "          const element = document.querySelector('#df-cd30582d-ea99-48a6-963a-109e3fac6d64');\n",
              "          const dataTable =\n",
              "            await google.colab.kernel.invokeFunction('convertToInteractive',\n",
              "                                                     [key], {});\n",
              "          if (!dataTable) return;\n",
              "\n",
              "          const docLinkHtml = 'Like what you see? Visit the ' +\n",
              "            '<a target=\"_blank\" href=https://colab.research.google.com/notebooks/data_table.ipynb>data table notebook</a>'\n",
              "            + ' to learn more about interactive tables.';\n",
              "          element.innerHTML = '';\n",
              "          dataTable['output_type'] = 'display_data';\n",
              "          await google.colab.output.renderOutput(dataTable, element);\n",
              "          const docLink = document.createElement('div');\n",
              "          docLink.innerHTML = docLinkHtml;\n",
              "          element.appendChild(docLink);\n",
              "        }\n",
              "      </script>\n",
              "    </div>\n",
              "  </div>\n",
              "  "
            ]
          },
          "metadata": {},
          "execution_count": 17
        }
      ]
    },
    {
      "cell_type": "code",
      "source": [
        "# 2 \n",
        "# both\n",
        "fig, ax = plt.subplots(figsize=(15,10))\n",
        "\n",
        "ax.plot([.5,1],[.5,1]) # x = y\n",
        "a=.5\n",
        "size_2b = []\n",
        "acc_hat_2b = []\n",
        "for _ in range(10):\n",
        "  b = round(a+.05, 2)\n",
        "  mid = (a+b)/2\n",
        "  L, U, n = get_CI(phat2b,a,b)\n",
        "  size_2b.append(n)\n",
        "  acc_hat_2b.append((L+U)/2)\n",
        "  if n!=0:\n",
        "    ax.scatter(mid,(L+U)/2, s = 50, color= \"black\")\n",
        "    ax.vlines(mid, L, U,color= \"red\") # line segment of CI\n",
        "  a = b\n",
        "plt.savefig('calibration_algorithm2_both.png')\n",
        "plt.show()\n",
        "\n",
        "callib_2b = pd.DataFrame({'size_2b':size_2b, 'acc_hat_2b':acc_hat_2b})\n",
        "callib_2b.to_csv('calibration_algorithm2_both.csv',index=False)\n",
        "callib_2b"
      ],
      "metadata": {
        "colab": {
          "base_uri": "https://localhost:8080/",
          "height": 934
        },
        "id": "pnuT9dTQpI6d",
        "outputId": "162c2fcb-cbda-4a9c-cdcd-9ac14b2f163a"
      },
      "execution_count": null,
      "outputs": [
        {
          "output_type": "display_data",
          "data": {
            "text/plain": [
              "<Figure size 1080x720 with 1 Axes>"
            ],
            "image/png": "[encoded data removed]"
          },
          "metadata": {
            "needs_background": "light"
          }
        },
        {
          "output_type": "execute_result",
          "data": {
            "text/plain": [
              "   size_2b  acc_hat_2b\n",
              "0      512    0.492188\n",
              "1      435    0.583908\n",
              "2      428    0.607477\n",
              "3      360    0.647222\n",
              "4      336    0.687500\n",
              "5      244    0.750000\n",
              "6      160    0.768750\n",
              "7       75    0.786667\n",
              "8       21    0.952381\n",
              "9        0    0.975000"
            ],
            "text/html": [
              "\n",
              "  <div id=\"df-9e2726ec-e645-4f74-91dc-96fb30285ebc\">\n",
              "    <div class=\"colab-df-container\">\n",
              "      <div>\n",
              "<style scoped>\n",
              "    .dataframe tbody tr th:only-of-type {\n",
              "        vertical-align: middle;\n",
              "    }\n",
              "\n",
              "    .dataframe tbody tr th {\n",
              "        vertical-align: top;\n",
              "    }\n",
              "\n",
              "    .dataframe thead th {\n",
              "        text-align: right;\n",
              "    }\n",
              "</style>\n",
              "<table border=\"1\" class=\"dataframe\">\n",
              "  <thead>\n",
              "    <tr style=\"text-align: right;\">\n",
              "      <th></th>\n",
              "      <th>size_2b</th>\n",
              "      <th>acc_hat_2b</th>\n",
              "    </tr>\n",
              "  </thead>\n",
              "  <tbody>\n",
              "    <tr>\n",
              "      <th>0</th>\n",
              "      <td>512</td>\n",
              "      <td>0.492188</td>\n",
              "    </tr>\n",
              "    <tr>\n",
              "      <th>1</th>\n",
              "      <td>435</td>\n",
              "      <td>0.583908</td>\n",
              "    </tr>\n",
              "    <tr>\n",
              "      <th>2</th>\n",
              "      <td>428</td>\n",
              "      <td>0.607477</td>\n",
              "    </tr>\n",
              "    <tr>\n",
              "      <th>3</th>\n",
              "      <td>360</td>\n",
              "      <td>0.647222</td>\n",
              "    </tr>\n",
              "    <tr>\n",
              "      <th>4</th>\n",
              "      <td>336</td>\n",
              "      <td>0.687500</td>\n",
              "    </tr>\n",
              "    <tr>\n",
              "      <th>5</th>\n",
              "      <td>244</td>\n",
              "      <td>0.750000</td>\n",
              "    </tr>\n",
              "    <tr>\n",
              "      <th>6</th>\n",
              "      <td>160</td>\n",
              "      <td>0.768750</td>\n",
              "    </tr>\n",
              "    <tr>\n",
              "      <th>7</th>\n",
              "      <td>75</td>\n",
              "      <td>0.786667</td>\n",
              "    </tr>\n",
              "    <tr>\n",
              "      <th>8</th>\n",
              "      <td>21</td>\n",
              "      <td>0.952381</td>\n",
              "    </tr>\n",
              "    <tr>\n",
              "      <th>9</th>\n",
              "      <td>0</td>\n",
              "      <td>0.975000</td>\n",
              "    </tr>\n",
              "  </tbody>\n",
              "</table>\n",
              "</div>\n",
              "      <button class=\"colab-df-convert\" onclick=\"convertToInteractive('df-9e2726ec-e645-4f74-91dc-96fb30285ebc')\"\n",
              "              title=\"Convert this dataframe to an interactive table.\"\n",
              "              style=\"display:none;\">\n",
              "        \n",
              "  <svg xmlns=\"http://www.w3.org/2000/svg\" height=\"24px\"viewBox=\"0 0 24 24\"\n",
              "       width=\"24px\">\n",
              "    <path d=\"M0 0h24v24H0V0z\" fill=\"none\"/>\n",
              "    <path d=\"M18.56 5.44l.94 2.06.94-2.06 2.06-.94-2.06-.94-.94-2.06-.94 2.06-2.06.94zm-11 1L8.5 8.5l.94-2.06 2.06-.94-2.06-.94L8.5 2.5l-.94 2.06-2.06.94zm10 10l.94 2.06.94-2.06 2.06-.94-2.06-.94-.94-2.06-.94 2.06-2.06.94z\"/><path d=\"M17.41 7.96l-1.37-1.37c-.4-.4-.92-.59-1.43-.59-.52 0-1.04.2-1.43.59L10.3 9.45l-7.72 7.72c-.78.78-.78 2.05 0 2.83L4 21.41c.39.39.9.59 1.41.59.51 0 1.02-.2 1.41-.59l7.78-7.78 2.81-2.81c.8-.78.8-2.07 0-2.86zM5.41 20L4 18.59l7.72-7.72 1.47 1.35L5.41 20z\"/>\n",
              "  </svg>\n",
              "      </button>\n",
              "      \n",
              "  <style>\n",
              "    .colab-df-container {\n",
              "      display:flex;\n",
              "      flex-wrap:wrap;\n",
              "      gap: 12px;\n",
              "    }\n",
              "\n",
              "    .colab-df-convert {\n",
              "      background-color: #E8F0FE;\n",
              "      border: none;\n",
              "      border-radius: 50%;\n",
              "      cursor: pointer;\n",
              "      display: none;\n",
              "      fill: #1967D2;\n",
              "      height: 32px;\n",
              "      padding: 0 0 0 0;\n",
              "      width: 32px;\n",
              "    }\n",
              "\n",
              "    .colab-df-convert:hover {\n",
              "      background-color: #E2EBFA;\n",
              "      box-shadow: 0px 1px 2px rgba(60, 64, 67, 0.3), 0px 1px 3px 1px rgba(60, 64, 67, 0.15);\n",
              "      fill: #174EA6;\n",
              "    }\n",
              "\n",
              "    [theme=dark] .colab-df-convert {\n",
              "      background-color: #3B4455;\n",
              "      fill: #D2E3FC;\n",
              "    }\n",
              "\n",
              "    [theme=dark] .colab-df-convert:hover {\n",
              "      background-color: #434B5C;\n",
              "      box-shadow: 0px 1px 3px 1px rgba(0, 0, 0, 0.15);\n",
              "      filter: drop-shadow(0px 1px 2px rgba(0, 0, 0, 0.3));\n",
              "      fill: #FFFFFF;\n",
              "    }\n",
              "  </style>\n",
              "\n",
              "      <script>\n",
              "        const buttonEl =\n",
              "          document.querySelector('#df-9e2726ec-e645-4f74-91dc-96fb30285ebc button.colab-df-convert');\n",
              "        buttonEl.style.display =\n",
              "          google.colab.kernel.accessAllowed ? 'block' : 'none';\n",
              "\n",
              "        async function convertToInteractive(key) {\n",
              "          const element = document.querySelector('#df-9e2726ec-e645-4f74-91dc-96fb30285ebc');\n",
              "          const dataTable =\n",
              "            await google.colab.kernel.invokeFunction('convertToInteractive',\n",
              "                                                     [key], {});\n",
              "          if (!dataTable) return;\n",
              "\n",
              "          const docLinkHtml = 'Like what you see? Visit the ' +\n",
              "            '<a target=\"_blank\" href=https://colab.research.google.com/notebooks/data_table.ipynb>data table notebook</a>'\n",
              "            + ' to learn more about interactive tables.';\n",
              "          element.innerHTML = '';\n",
              "          dataTable['output_type'] = 'display_data';\n",
              "          await google.colab.output.renderOutput(dataTable, element);\n",
              "          const docLink = document.createElement('div');\n",
              "          docLink.innerHTML = docLinkHtml;\n",
              "          element.appendChild(docLink);\n",
              "        }\n",
              "      </script>\n",
              "    </div>\n",
              "  </div>\n",
              "  "
            ]
          },
          "metadata": {},
          "execution_count": 18
        }
      ]
    },
    {
      "cell_type": "code",
      "source": [
        "# 2 \n",
        "# only\n",
        "fig, ax = plt.subplots(figsize=(15,10))\n",
        "\n",
        "ax.plot([.5,1],[.5,1]) # x = y\n",
        "a=.5\n",
        "size_2o = []\n",
        "acc_hat_2o = []\n",
        "for _ in range(10):\n",
        "  b = round(a+.05, 2)\n",
        "  mid = (a+b)/2\n",
        "  L, U, n = get_CI(phat2o,a,b)\n",
        "  size_2o.append(n)\n",
        "  acc_hat_2o.append((L+U)/2)\n",
        "  ax.scatter(mid,(L+U)/2, s = 50, color= \"black\")\n",
        "  ax.vlines(mid, L, U,color= \"red\") # line segment of CI\n",
        "  a = b\n",
        "\n",
        "plt.savefig('calibration_algorithm2_only.png')\n",
        "plt.show()\n",
        "\n",
        "callib_2o = pd.DataFrame({'size_2o':size_2o, 'acc_hat_2o':acc_hat_2o})\n",
        "callib_2o.to_csv('calibration_algorithm2_only.csv',index=False)\n"
      ],
      "metadata": {
        "colab": {
          "base_uri": "https://localhost:8080/",
          "height": 592
        },
        "id": "Ncyl77a8X3zn",
        "outputId": "82e0ec35-4154-4972-9f90-d3f011aae290"
      },
      "execution_count": null,
      "outputs": [
        {
          "output_type": "display_data",
          "data": {
            "text/plain": [
              "<Figure size 1080x720 with 1 Axes>"
            ],
            "image/png": "[encoded data removed]"
          },
          "metadata": {
            "needs_background": "light"
          }
        }
      ]
    },
    {
      "cell_type": "code",
      "source": [
        "# 3\n",
        "# both\n",
        "fig, ax = plt.subplots(figsize=(15,10))\n",
        "\n",
        "ax.plot([.5,1],[.5,1]) # x = y\n",
        "a=.5\n",
        "size_3b = []\n",
        "acc_hat_3b = []\n",
        "for _ in range(10):\n",
        "  b = round(a+.05, 2)\n",
        "  mid = (a+b)/2\n",
        "  L, U, n = get_CI(phat2cb,a,b)\n",
        "  size_3b.append(n)\n",
        "  acc_hat_3b.append((L+U)/2)\n",
        "  ax.scatter(mid,(L+U)/2, s = 50, color= \"black\")\n",
        "  ax.vlines(mid, L, U,color= \"red\") # line segment of CI\n",
        "  a = b\n",
        "plt.savefig('calibration_algorithm3_both.png')\n",
        "plt.show()\n",
        "\n",
        "callib_3b = pd.DataFrame({'size_3b':size_3b, 'acc_hat_3b':acc_hat_3b})\n",
        "callib_3b.to_csv('calibration_algorithm3_both.csv',index=False)\n",
        "callib_3b"
      ],
      "metadata": {
        "colab": {
          "base_uri": "https://localhost:8080/",
          "height": 934
        },
        "id": "pQKyzT6daDou",
        "outputId": "b93fab7d-2665-41fb-e3e0-e4053f6f9938"
      },
      "execution_count": null,
      "outputs": [
        {
          "output_type": "display_data",
          "data": {
            "text/plain": [
              "<Figure size 1080x720 with 1 Axes>"
            ],
            "image/png": "[encoded data removed]"
          },
          "metadata": {
            "needs_background": "light"
          }
        },
        {
          "output_type": "execute_result",
          "data": {
            "text/plain": [
              "   size_3b  acc_hat_3b\n",
              "0      907    0.436604\n",
              "1      521    0.577735\n",
              "2      387    0.630491\n",
              "3      306    0.624183\n",
              "4      239    0.690377\n",
              "5      151    0.774834\n",
              "6       50    0.820000\n",
              "7       10    0.700000\n",
              "8        0    0.925000\n",
              "9        0    0.975000"
            ],
            "text/html": [
              "\n",
              "  <div id=\"df-9fe5ce52-a371-4938-be83-8cff21233dec\">\n",
              "    <div class=\"colab-df-container\">\n",
              "      <div>\n",
              "<style scoped>\n",
              "    .dataframe tbody tr th:only-of-type {\n",
              "        vertical-align: middle;\n",
              "    }\n",
              "\n",
              "    .dataframe tbody tr th {\n",
              "        vertical-align: top;\n",
              "    }\n",
              "\n",
              "    .dataframe thead th {\n",
              "        text-align: right;\n",
              "    }\n",
              "</style>\n",
              "<table border=\"1\" class=\"dataframe\">\n",
              "  <thead>\n",
              "    <tr style=\"text-align: right;\">\n",
              "      <th></th>\n",
              "      <th>size_3b</th>\n",
              "      <th>acc_hat_3b</th>\n",
              "    </tr>\n",
              "  </thead>\n",
              "  <tbody>\n",
              "    <tr>\n",
              "      <th>0</th>\n",
              "      <td>907</td>\n",
              "      <td>0.436604</td>\n",
              "    </tr>\n",
              "    <tr>\n",
              "      <th>1</th>\n",
              "      <td>521</td>\n",
              "      <td>0.577735</td>\n",
              "    </tr>\n",
              "    <tr>\n",
              "      <th>2</th>\n",
              "      <td>387</td>\n",
              "      <td>0.630491</td>\n",
              "    </tr>\n",
              "    <tr>\n",
              "      <th>3</th>\n",
              "      <td>306</td>\n",
              "      <td>0.624183</td>\n",
              "    </tr>\n",
              "    <tr>\n",
              "      <th>4</th>\n",
              "      <td>239</td>\n",
              "      <td>0.690377</td>\n",
              "    </tr>\n",
              "    <tr>\n",
              "      <th>5</th>\n",
              "      <td>151</td>\n",
              "      <td>0.774834</td>\n",
              "    </tr>\n",
              "    <tr>\n",
              "      <th>6</th>\n",
              "      <td>50</td>\n",
              "      <td>0.820000</td>\n",
              "    </tr>\n",
              "    <tr>\n",
              "      <th>7</th>\n",
              "      <td>10</td>\n",
              "      <td>0.700000</td>\n",
              "    </tr>\n",
              "    <tr>\n",
              "      <th>8</th>\n",
              "      <td>0</td>\n",
              "      <td>0.925000</td>\n",
              "    </tr>\n",
              "    <tr>\n",
              "      <th>9</th>\n",
              "      <td>0</td>\n",
              "      <td>0.975000</td>\n",
              "    </tr>\n",
              "  </tbody>\n",
              "</table>\n",
              "</div>\n",
              "      <button class=\"colab-df-convert\" onclick=\"convertToInteractive('df-9fe5ce52-a371-4938-be83-8cff21233dec')\"\n",
              "              title=\"Convert this dataframe to an interactive table.\"\n",
              "              style=\"display:none;\">\n",
              "        \n",
              "  <svg xmlns=\"http://www.w3.org/2000/svg\" height=\"24px\"viewBox=\"0 0 24 24\"\n",
              "       width=\"24px\">\n",
              "    <path d=\"M0 0h24v24H0V0z\" fill=\"none\"/>\n",
              "    <path d=\"M18.56 5.44l.94 2.06.94-2.06 2.06-.94-2.06-.94-.94-2.06-.94 2.06-2.06.94zm-11 1L8.5 8.5l.94-2.06 2.06-.94-2.06-.94L8.5 2.5l-.94 2.06-2.06.94zm10 10l.94 2.06.94-2.06 2.06-.94-2.06-.94-.94-2.06-.94 2.06-2.06.94z\"/><path d=\"M17.41 7.96l-1.37-1.37c-.4-.4-.92-.59-1.43-.59-.52 0-1.04.2-1.43.59L10.3 9.45l-7.72 7.72c-.78.78-.78 2.05 0 2.83L4 21.41c.39.39.9.59 1.41.59.51 0 1.02-.2 1.41-.59l7.78-7.78 2.81-2.81c.8-.78.8-2.07 0-2.86zM5.41 20L4 18.59l7.72-7.72 1.47 1.35L5.41 20z\"/>\n",
              "  </svg>\n",
              "      </button>\n",
              "      \n",
              "  <style>\n",
              "    .colab-df-container {\n",
              "      display:flex;\n",
              "      flex-wrap:wrap;\n",
              "      gap: 12px;\n",
              "    }\n",
              "\n",
              "    .colab-df-convert {\n",
              "      background-color: #E8F0FE;\n",
              "      border: none;\n",
              "      border-radius: 50%;\n",
              "      cursor: pointer;\n",
              "      display: none;\n",
              "      fill: #1967D2;\n",
              "      height: 32px;\n",
              "      padding: 0 0 0 0;\n",
              "      width: 32px;\n",
              "    }\n",
              "\n",
              "    .colab-df-convert:hover {\n",
              "      background-color: #E2EBFA;\n",
              "      box-shadow: 0px 1px 2px rgba(60, 64, 67, 0.3), 0px 1px 3px 1px rgba(60, 64, 67, 0.15);\n",
              "      fill: #174EA6;\n",
              "    }\n",
              "\n",
              "    [theme=dark] .colab-df-convert {\n",
              "      background-color: #3B4455;\n",
              "      fill: #D2E3FC;\n",
              "    }\n",
              "\n",
              "    [theme=dark] .colab-df-convert:hover {\n",
              "      background-color: #434B5C;\n",
              "      box-shadow: 0px 1px 3px 1px rgba(0, 0, 0, 0.15);\n",
              "      filter: drop-shadow(0px 1px 2px rgba(0, 0, 0, 0.3));\n",
              "      fill: #FFFFFF;\n",
              "    }\n",
              "  </style>\n",
              "\n",
              "      <script>\n",
              "        const buttonEl =\n",
              "          document.querySelector('#df-9fe5ce52-a371-4938-be83-8cff21233dec button.colab-df-convert');\n",
              "        buttonEl.style.display =\n",
              "          google.colab.kernel.accessAllowed ? 'block' : 'none';\n",
              "\n",
              "        async function convertToInteractive(key) {\n",
              "          const element = document.querySelector('#df-9fe5ce52-a371-4938-be83-8cff21233dec');\n",
              "          const dataTable =\n",
              "            await google.colab.kernel.invokeFunction('convertToInteractive',\n",
              "                                                     [key], {});\n",
              "          if (!dataTable) return;\n",
              "\n",
              "          const docLinkHtml = 'Like what you see? Visit the ' +\n",
              "            '<a target=\"_blank\" href=https://colab.research.google.com/notebooks/data_table.ipynb>data table notebook</a>'\n",
              "            + ' to learn more about interactive tables.';\n",
              "          element.innerHTML = '';\n",
              "          dataTable['output_type'] = 'display_data';\n",
              "          await google.colab.output.renderOutput(dataTable, element);\n",
              "          const docLink = document.createElement('div');\n",
              "          docLink.innerHTML = docLinkHtml;\n",
              "          element.appendChild(docLink);\n",
              "        }\n",
              "      </script>\n",
              "    </div>\n",
              "  </div>\n",
              "  "
            ]
          },
          "metadata": {},
          "execution_count": 20
        }
      ]
    },
    {
      "cell_type": "code",
      "source": [
        "# 3  #2(conservative)\n",
        "# only\n",
        "fig, ax = plt.subplots(figsize=(15,10))\n",
        "\n",
        "ax.plot([.5,1],[.5,1]) # x = y\n",
        "a=.5\n",
        "size_3o = []\n",
        "acc_hat_3o = []\n",
        "for _ in range(10):\n",
        "  b = round(a+.05, 2)\n",
        "  mid = (a+b)/2\n",
        "  L, U, n = get_CI(phat2co,a,b)\n",
        "  size_3o.append(n)\n",
        "  acc_hat_3o.append((L+U)/2)\n",
        "  ax.scatter(mid,(L+U)/2, s = 50, color= \"black\")\n",
        "  ax.vlines(mid, L, U,color= \"red\") # line segment of CI\n",
        "  a = b\n",
        "plt.savefig('calibration_algorithm3_only.png')\n",
        "plt.show()\n",
        "\n",
        "callib_3o = pd.DataFrame({'size_3o':size_3o, 'acc_hat_3o':acc_hat_3o})\n",
        "callib_3o.to_csv('calibration_algorithm3_only.csv',index=False) #\n"
      ],
      "metadata": {
        "colab": {
          "base_uri": "https://localhost:8080/",
          "height": 592
        },
        "id": "MLykXXjiaDwA",
        "outputId": "e08d760a-7c10-439b-ef53-9c04e25d15dd"
      },
      "execution_count": null,
      "outputs": [
        {
          "output_type": "display_data",
          "data": {
            "text/plain": [
              "<Figure size 1080x720 with 1 Axes>"
            ],
            "image/png": "[encoded data removed]"
          },
          "metadata": {
            "needs_background": "light"
          }
        }
      ]
    },
    {
      "cell_type": "code",
      "source": [
        ""
      ],
      "metadata": {
        "id": "IKl7y3FUgs-1"
      },
      "execution_count": null,
      "outputs": []
    }
  ]
}